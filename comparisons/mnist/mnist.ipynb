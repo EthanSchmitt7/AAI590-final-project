{
 "cells": [
  {
   "cell_type": "markdown",
   "metadata": {},
   "source": [
    "# MNIST"
   ]
  },
  {
   "cell_type": "code",
   "execution_count": null,
   "metadata": {},
   "outputs": [],
   "source": [
    "import time\n",
    "\n",
    "import matplotlib.pyplot as plt\n",
    "import numpy as np\n",
    "import optax\n",
    "import pandas as pd\n",
    "import torch\n",
    "\n",
    "from sklearn.metrics import confusion_matrix\n",
    "from sklearn.model_selection import train_test_split\n",
    "from turbanet import TurbaTrainState"
   ]
  },
  {
   "cell_type": "code",
   "execution_count": null,
   "metadata": {},
   "outputs": [],
   "source": [
    "EPOCHS = 10\n",
    "SWARM_SIZE = 5\n",
    "BATCH_SIZE = 32\n",
    "LR = 5e-5"
   ]
  },
  {
   "cell_type": "code",
   "execution_count": null,
   "metadata": {},
   "outputs": [],
   "source": [
    "HIDDEN1 = 64\n",
    "HIDDEN2 = 32"
   ]
  },
  {
   "cell_type": "markdown",
   "metadata": {},
   "source": [
    "## Data Collection"
   ]
  },
  {
   "cell_type": "code",
   "execution_count": null,
   "metadata": {},
   "outputs": [],
   "source": [
    "train_df = pd.read_csv(\"../../data/input/train.csv\")\n",
    "test_df = pd.read_csv(\"../../data/input/test.csv\")\n",
    "print(train_df.shape, test_df.shape)\n",
    "print(\"Train Cols : \", train_df.columns)\n",
    "print(\"Test Cols : \", test_df.columns)\n",
    "print(\" Label -  \", [i for i in train_df.columns if i not in test_df.columns])"
   ]
  },
  {
   "cell_type": "code",
   "execution_count": null,
   "metadata": {},
   "outputs": [],
   "source": [
    "train_df.head()"
   ]
  },
  {
   "cell_type": "code",
   "execution_count": null,
   "metadata": {},
   "outputs": [],
   "source": [
    "train_df[\"label\"].value_counts().sort_index()"
   ]
  },
  {
   "cell_type": "code",
   "execution_count": null,
   "metadata": {},
   "outputs": [],
   "source": [
    "# Convert df to numpy array\n",
    "images = np.array(train_df.iloc[:, 1:])"
   ]
  },
  {
   "cell_type": "code",
   "execution_count": null,
   "metadata": {},
   "outputs": [],
   "source": [
    "images.shape"
   ]
  },
  {
   "cell_type": "code",
   "execution_count": null,
   "metadata": {},
   "outputs": [],
   "source": [
    "# Scaling the image so that the values only range between 0 and 1\n",
    "images = images / 255.0"
   ]
  },
  {
   "cell_type": "code",
   "execution_count": null,
   "metadata": {},
   "outputs": [],
   "source": [
    "# Convert labels to one-hot encoding tensor\n",
    "labels = np.array(train_df[\"label\"])  # .reshape(-1,1)\n",
    "labels.shape"
   ]
  },
  {
   "cell_type": "code",
   "execution_count": null,
   "metadata": {},
   "outputs": [],
   "source": [
    "image_label = np.zeros((images.shape[0], 10))\n",
    "image_label[np.arange(images.shape[0]), labels] = 1.0"
   ]
  },
  {
   "cell_type": "code",
   "execution_count": null,
   "metadata": {},
   "outputs": [],
   "source": [
    "X_train, X_val, y_train, y_val = train_test_split(\n",
    "    images, image_label, test_size=0.2, stratify=train_df[\"label\"]\n",
    ")\n",
    "X_val, X_test, y_val, y_test = train_test_split(X_val, y_val, test_size=0.5)"
   ]
  },
  {
   "cell_type": "code",
   "execution_count": null,
   "metadata": {},
   "outputs": [],
   "source": [
    "print(X_train.shape)\n",
    "print(y_train.shape)\n",
    "print(X_val.shape)\n",
    "print(y_val.shape)\n",
    "print(X_test.shape)\n",
    "print(y_test.shape)"
   ]
  },
  {
   "cell_type": "code",
   "execution_count": null,
   "metadata": {},
   "outputs": [],
   "source": [
    "# Ploting some of the datapoints in the dataset\n",
    "figure = plt.figure(figsize=(8, 8))\n",
    "cols, rows = 3, 3\n",
    "figure.add_subplot(rows, cols, 1)\n",
    "plt.axis(\"off\")\n",
    "for i in range(1, cols * rows + 1):\n",
    "    sample_idx = torch.randint(len(X_train), size=(1,)).item()\n",
    "    sample_img = X_train[sample_idx].reshape(28, 28)\n",
    "    sample_lbl = np.argmax(y_train[sample_idx])\n",
    "    figure.add_subplot(rows, cols, i)\n",
    "    plt.title(sample_lbl)\n",
    "    plt.axis(\"off\")\n",
    "    plt.imshow(sample_img.squeeze(), cmap=\"gray\")\n",
    "plt.show()"
   ]
  },
  {
   "cell_type": "code",
   "execution_count": null,
   "metadata": {},
   "outputs": [],
   "source": [
    "# Generate batches of data\n",
    "X_train = torch.Tensor(X_train)\n",
    "y_train = torch.Tensor(y_train)\n",
    "\n",
    "X_val = torch.Tensor(X_val)\n",
    "y_val = torch.Tensor(y_val)\n",
    "\n",
    "X_test = torch.Tensor(X_test)\n",
    "y_test = torch.Tensor(y_test)\n",
    "\n",
    "train_dataloader = torch.utils.data.DataLoader(\n",
    "    torch.utils.data.TensorDataset(X_train, y_train), batch_size=BATCH_SIZE, shuffle=True\n",
    ")\n",
    "val_dataloader = torch.utils.data.DataLoader(\n",
    "    torch.utils.data.TensorDataset(X_val, y_val), batch_size=BATCH_SIZE, shuffle=False\n",
    ")\n",
    "test_dataloader = torch.utils.data.DataLoader(\n",
    "    torch.utils.data.TensorDataset(X_test, y_test), batch_size=BATCH_SIZE, shuffle=True\n",
    ")\n"
   ]
  },
  {
   "cell_type": "markdown",
   "metadata": {},
   "source": [
    "## Turbanet"
   ]
  },
  {
   "cell_type": "code",
   "execution_count": null,
   "metadata": {},
   "outputs": [],
   "source": [
    "from flax import linen as nn\n",
    "\n",
    "\n",
    "# Softmax layer ignored since the loss function defined is nn.CrossEntropy()\n",
    "class Brain(nn.Module):\n",
    "    @nn.compact\n",
    "    def __call__(self, x):  # noqa ANN001\n",
    "        x = nn.Dense(HIDDEN1)(x)\n",
    "        x = nn.relu(x)\n",
    "        x = nn.Dense(HIDDEN2)(x)\n",
    "        x = nn.relu(x)\n",
    "        x = nn.Dense(10)(x)\n",
    "\n",
    "        return x\n"
   ]
  },
  {
   "cell_type": "code",
   "execution_count": null,
   "metadata": {},
   "outputs": [],
   "source": [
    "from turbanet import softmax_cross_entropy\n",
    "\n",
    "\n",
    "def turbanet_train(dataloader, model: TurbaTrainState):\n",
    "    size = 0\n",
    "    correct = 0\n",
    "\n",
    "    batch_loss = np.zeros(len(dataloader))\n",
    "    batch_accuracy = np.zeros(len(dataloader))\n",
    "\n",
    "    for batch, (X, y) in enumerate(dataloader):\n",
    "        # Repeat for swarm_size times\n",
    "        X = np.expand_dims(X.numpy(), 0).repeat(len(model), axis=0)\n",
    "        y = np.expand_dims(y.numpy(), 0).repeat(len(model), axis=0)\n",
    "\n",
    "        # Feedforward / Loss\n",
    "        model, loss, prediction = model.train(X, y, softmax_cross_entropy)\n",
    "\n",
    "        # Accuracy\n",
    "        _correct = (prediction.argmax(axis=2) == y.argmax(axis=2)).astype(float).sum(axis=1)\n",
    "\n",
    "        # Updating loss_batch and batch_accuracy\n",
    "        batch_loss[batch] = loss.mean().item()\n",
    "        batch_accuracy[batch] = (_correct / dataloader.batch_size).mean().item()\n",
    "\n",
    "        # Updating size and correct\n",
    "        size += dataloader.batch_size\n",
    "        correct += _correct\n",
    "\n",
    "        if batch % 100 == 0:\n",
    "            loss = loss.mean().item()\n",
    "            current = batch * dataloader.batch_size\n",
    "            print(f\"loss: {loss:>7f}  [{current:>5d}]\")\n",
    "\n",
    "    accuracy = (correct / size).mean().item()\n",
    "    print(f\"Train Accuracy: {(100 * accuracy):>0.1f}%\")\n",
    "\n",
    "    return model, batch_loss, batch_accuracy\n"
   ]
  },
  {
   "cell_type": "code",
   "execution_count": null,
   "metadata": {},
   "outputs": [],
   "source": [
    "def turbanet_validation(dataloader, model):\n",
    "    size = 0\n",
    "    correct = 0\n",
    "\n",
    "    batch_loss = np.zeros(len(dataloader))\n",
    "    batch_accuracy = np.zeros(len(dataloader))\n",
    "    for batch, (X, y) in enumerate(dataloader):\n",
    "        # Repeat for swarm_size times\n",
    "        X = np.expand_dims(X.numpy(), 0).repeat(len(model), axis=0)\n",
    "        y = np.expand_dims(y.numpy(), 0).repeat(len(model), axis=0)\n",
    "\n",
    "        # Feedforward / Loss\n",
    "        loss, prediction = model.evaluate(X, y, softmax_cross_entropy)\n",
    "\n",
    "        # Accuracy\n",
    "        _correct = (prediction.argmax(axis=2) == y.argmax(axis=2)).astype(float).sum(axis=1)\n",
    "\n",
    "        # Updating loss_batch and batch_accuracy\n",
    "        batch_loss[batch] = loss.mean().item()\n",
    "        batch_accuracy[batch] = (_correct / dataloader.batch_size).mean().item()\n",
    "\n",
    "        # Updating size and correct\n",
    "        size += dataloader.batch_size\n",
    "        correct += _correct\n",
    "\n",
    "    accuracy = (correct / size).mean().item()\n",
    "    print(f\"Validation Accuracy: {(100 * accuracy):>0.1f}%\")\n",
    "\n",
    "    return batch_loss, batch_accuracy"
   ]
  },
  {
   "cell_type": "code",
   "execution_count": null,
   "metadata": {},
   "outputs": [],
   "source": [
    "optimizer = optax.adam(learning_rate=LR)"
   ]
  },
  {
   "cell_type": "code",
   "execution_count": null,
   "metadata": {},
   "outputs": [],
   "source": [
    "model = TurbaTrainState.swarm(Brain(), optimizer, swarm_size=SWARM_SIZE, sample_input=X_train[0])"
   ]
  },
  {
   "cell_type": "code",
   "execution_count": null,
   "metadata": {},
   "outputs": [],
   "source": [
    "start = time.time()\n",
    "train_batch_loss = []\n",
    "train_batch_accuracy = []\n",
    "valid_batch_accuracy = []\n",
    "valid_batch_loss = []\n",
    "train_epoch_no = []\n",
    "valid_epoch_no = []\n",
    "\n",
    "for t in range(EPOCHS):\n",
    "    print(f\"Epoch {t + 1}\\n-------------------------------\")\n",
    "    model, _train_batch_loss, _train_batch_accuracy = turbanet_train(train_dataloader, model)\n",
    "    _valid_batch_loss, _valid_batch_accuracy = turbanet_validation(val_dataloader, model)\n",
    "\n",
    "    for i in range(len(_train_batch_loss)):\n",
    "        train_batch_loss.append(_train_batch_loss[i])\n",
    "        train_batch_accuracy.append(_train_batch_accuracy[i])\n",
    "        train_epoch_no.append(t + float((i + 1) / len(_train_batch_loss)))\n",
    "\n",
    "    for i in range(len(_valid_batch_loss)):\n",
    "        valid_batch_loss.append(_valid_batch_loss[i])\n",
    "        valid_batch_accuracy.append(_valid_batch_accuracy[i])\n",
    "        valid_epoch_no.append(t + float((i + 1) / len(_valid_batch_loss)))\n",
    "\n",
    "print(f\"turba time: {time.time() - start}\")"
   ]
  },
  {
   "cell_type": "code",
   "execution_count": null,
   "metadata": {},
   "outputs": [],
   "source": [
    "figure = plt.figure(figsize=(16, 16))\n",
    "\n",
    "\n",
    "figure.add_subplot(2, 2, 1)\n",
    "plt.plot(train_epoch_no, train_batch_accuracy)\n",
    "plt.title(\"Train Batch Accuracy\")\n",
    "plt.xlabel(\"Epochs\")\n",
    "plt.ylabel(\"Train Accuracy\")\n",
    "\n",
    "figure.add_subplot(2, 2, 2)\n",
    "plt.plot(train_epoch_no, train_batch_loss)\n",
    "plt.title(\"Train Batch Loss\")\n",
    "plt.xlabel(\"Epochs\")\n",
    "plt.ylabel(\"Train Loss\")\n",
    "\n",
    "figure.add_subplot(2, 2, 3)\n",
    "plt.plot(valid_epoch_no, valid_batch_accuracy)\n",
    "plt.title(\"Valid Batch Accuracy\")\n",
    "plt.xlabel(\"Epochs\")\n",
    "plt.ylabel(\"Train Accuracy\")\n",
    "\n",
    "figure.add_subplot(2, 2, 4)\n",
    "plt.plot(valid_epoch_no, valid_batch_loss)\n",
    "plt.title(\"Valid Batch Loss\")\n",
    "plt.xlabel(\"Epochs\")\n",
    "plt.ylabel(\"Train Loss\")\n",
    "\n",
    "\n",
    "plt.show()"
   ]
  },
  {
   "cell_type": "code",
   "execution_count": null,
   "metadata": {},
   "outputs": [],
   "source": [
    "# Plot training and validation loss together\n",
    "figure = plt.figure(figsize=(16, 8))\n",
    "\n",
    "figure.add_subplot(1, 2, 1)\n",
    "plt.plot(train_epoch_no, train_batch_loss)\n",
    "plt.plot(valid_epoch_no, valid_batch_loss)\n",
    "plt.title(\"Loss\")\n",
    "plt.xlabel(\"Epochs\")\n",
    "plt.ylabel(\"Loss\")\n",
    "plt.legend([\"Train\", \"Validation\"])\n",
    "\n",
    "figure.add_subplot(1, 2, 2)\n",
    "plt.plot(train_epoch_no, train_batch_accuracy)\n",
    "plt.plot(valid_epoch_no, valid_batch_accuracy)\n",
    "plt.title(\"Accuracy\")\n",
    "plt.xlabel(\"Epochs\")\n",
    "plt.ylabel(\"Accuracy\")\n",
    "plt.legend([\"Train\", \"Validation\"])\n",
    "\n",
    "plt.show()\n"
   ]
  },
  {
   "cell_type": "code",
   "execution_count": null,
   "metadata": {},
   "outputs": [],
   "source": [
    "# Run on test set\n",
    "y_pred = np.empty((SWARM_SIZE, 0))\n",
    "y_true = np.empty((SWARM_SIZE, 0))\n",
    "for X, y in test_dataloader:\n",
    "    X = np.expand_dims(X.numpy(), 0).repeat(len(model), axis=0)\n",
    "    y = np.expand_dims(y.numpy(), 0).repeat(len(model), axis=0)\n",
    "\n",
    "    prediction = np.argmax(model.predict(X), axis=2)\n",
    "    truth = np.argmax(y, axis=2)\n",
    "\n",
    "    y_pred = np.append(y_pred, prediction, axis=1)\n",
    "    y_true = np.append(y_true, truth, axis=1)"
   ]
  },
  {
   "cell_type": "code",
   "execution_count": null,
   "metadata": {},
   "outputs": [],
   "source": [
    "# Subplot of predictions vs ground truth (x by x)\n",
    "fig = plt.figure(figsize=(32, 16))\n",
    "\n",
    "# Shared axes\n",
    "for i in range(SWARM_SIZE):\n",
    "    ax = fig.add_subplot(\n",
    "        int(np.ceil(np.sqrt(SWARM_SIZE))), int(np.ceil(np.sqrt(SWARM_SIZE))), i + 1\n",
    "    )\n",
    "\n",
    "    # Confusion matrix\n",
    "    cm = confusion_matrix(y_true[i], y_pred[i], labels=[0, 1, 2, 3, 4, 5, 6, 7, 8, 9])\n",
    "    ax.imshow(cm, interpolation=\"nearest\", cmap=plt.cm.Blues)\n",
    "\n",
    "    # Labels\n",
    "    ax.set_title(f\"Confusion Matrix {i}\")\n",
    "    ax.set_xlabel(\"Predicted\")\n",
    "    ax.set_ylabel(\"True\")\n",
    "\n",
    "plt.show()"
   ]
  },
  {
   "cell_type": "markdown",
   "metadata": {},
   "source": [
    "## Torch"
   ]
  },
  {
   "cell_type": "code",
   "execution_count": null,
   "metadata": {},
   "outputs": [],
   "source": [
    "## Checking if the GPU is being used properly.\n",
    "device = torch.device(\"cuda\" if torch.cuda.is_available() else \"cpu\")\n",
    "print(\"Using device:\", device)"
   ]
  },
  {
   "cell_type": "code",
   "execution_count": null,
   "metadata": {},
   "outputs": [],
   "source": [
    "from torch import nn\n",
    "\n",
    "\n",
    "# Softmax layer ignored since the loss function defined is nn.CrossEntropy()\n",
    "class MyOwnNeuralNetwork(nn.Module):\n",
    "    def __init__(self):\n",
    "        super(MyOwnNeuralNetwork, self).__init__()\n",
    "        self.flatten = nn.Flatten()\n",
    "        self.linear_relu_stack = nn.Sequential(\n",
    "            nn.Linear(784, HIDDEN1),\n",
    "            nn.ReLU(),\n",
    "            nn.Linear(HIDDEN1, HIDDEN2),\n",
    "            nn.ReLU(),\n",
    "            nn.Linear(HIDDEN2, 10),\n",
    "        )\n",
    "\n",
    "    def forward(self, x):\n",
    "        x = self.flatten(x)\n",
    "        logits = self.linear_relu_stack(x)\n",
    "        return logits\n",
    "\n",
    "\n",
    "model = MyOwnNeuralNetwork().to(device)\n",
    "print(model)\n",
    "\n",
    "model = model.cuda()\n",
    "torch.backends.cudnn.benchmark = True\n",
    "torch.cuda.set_device(0)"
   ]
  },
  {
   "cell_type": "code",
   "execution_count": null,
   "metadata": {},
   "outputs": [],
   "source": [
    "## Defining optimizer and loss functions\n",
    "loss_fn = nn.CrossEntropyLoss()\n",
    "optimizer = torch.optim.Adam(model.parameters(), lr=LR)"
   ]
  },
  {
   "cell_type": "code",
   "execution_count": null,
   "metadata": {},
   "outputs": [],
   "source": [
    "def pytorch_train(dataloader, model, loss_fn, optimizer):\n",
    "    model.train()\n",
    "\n",
    "    size = 0\n",
    "    correct = 0\n",
    "\n",
    "    batch_loss = np.zeros(len(dataloader))\n",
    "    batch_accuracy = np.zeros(len(dataloader))\n",
    "\n",
    "    for batch, (X, y) in enumerate(dataloader):\n",
    "        # Feedforward / Loss\n",
    "        X, y = X.to(device), y.to(device)\n",
    "        pred = model(X)\n",
    "        loss = loss_fn(pred, y)\n",
    "\n",
    "        # Backprop\n",
    "        optimizer.zero_grad()\n",
    "        loss.backward()\n",
    "        optimizer.step()\n",
    "\n",
    "        # Accuracy\n",
    "        _correct = (pred.argmax(1) == y.argmax(1)).type(torch.float32).sum().item()\n",
    "\n",
    "        # Updating loss_batch and batch_accuracy\n",
    "        batch_loss[batch] = loss.item()\n",
    "        batch_accuracy[batch] = _correct / X.shape[0]\n",
    "\n",
    "        # Updating size and correct\n",
    "        size += X.shape[0]\n",
    "        correct += _correct\n",
    "\n",
    "        if batch % 100 == 0:\n",
    "            loss = loss.item()\n",
    "            current = batch * X.shape[0]\n",
    "            print(f\"loss: {loss:>7f}  [{current:>5d}]\")\n",
    "\n",
    "    accuracy = correct / size\n",
    "    print(f\"Train Accuracy: {(100 * accuracy):>0.1f}%\")\n",
    "\n",
    "    return batch_loss, batch_accuracy\n"
   ]
  },
  {
   "cell_type": "code",
   "execution_count": null,
   "metadata": {},
   "outputs": [],
   "source": [
    "def pytorch_validation(dataloader, model, loss_fn):\n",
    "    model.eval()\n",
    "\n",
    "    size = 0\n",
    "    correct = 0\n",
    "\n",
    "    batch_loss = np.zeros(len(dataloader))\n",
    "    batch_accuracy = np.zeros(len(dataloader))\n",
    "    with torch.no_grad():\n",
    "        for batch, (X, y) in enumerate(dataloader):\n",
    "            # Feedforward / Loss\n",
    "            X, y = X.to(device), y.to(device)\n",
    "            pred = model(X)\n",
    "            loss = loss_fn(pred, y)\n",
    "\n",
    "            # Accuracy\n",
    "            _correct = (pred.argmax(1) == y.argmax(1)).type(torch.float32).sum().item()\n",
    "\n",
    "            # Updating loss_batch and batch_accuracy\n",
    "            batch_loss[batch] = loss.item()\n",
    "            batch_accuracy[batch] = _correct / X.shape[0]\n",
    "\n",
    "            # Updating size and correct\n",
    "            size += X.shape[0]\n",
    "            correct += _correct\n",
    "\n",
    "    accuracy = correct / size\n",
    "    print(f\"Validation Accuracy: {(100 * accuracy):>0.1f}%\")\n",
    "\n",
    "    return batch_loss, batch_accuracy"
   ]
  },
  {
   "cell_type": "code",
   "execution_count": null,
   "metadata": {},
   "outputs": [],
   "source": [
    "# Batch the data\n",
    "train_dataset = torch.utils.data.TensorDataset(X_train, y_train)\n",
    "val_dataset = torch.utils.data.TensorDataset(X_val, y_val)\n",
    "\n",
    "train_dataloader = torch.utils.data.DataLoader(train_dataset, batch_size=BATCH_SIZE, shuffle=True)\n",
    "val_dataloader = torch.utils.data.DataLoader(train_dataset, batch_size=BATCH_SIZE, shuffle=False)"
   ]
  },
  {
   "cell_type": "code",
   "execution_count": null,
   "metadata": {},
   "outputs": [],
   "source": [
    "start = time.time()\n",
    "train_batch_loss = []\n",
    "train_batch_accuracy = []\n",
    "valid_batch_accuracy = []\n",
    "valid_batch_loss = []\n",
    "train_epoch_no = []\n",
    "valid_epoch_no = []\n",
    "\n",
    "for t in range(EPOCHS):\n",
    "    print(f\"Epoch {t + 1}\\n-------------------------------\")\n",
    "    _train_batch_loss, _train_batch_accuracy = pytorch_train(\n",
    "        train_dataloader, model, loss_fn, optimizer\n",
    "    )\n",
    "    _valid_batch_loss, _valid_batch_accuracy = pytorch_validation(val_dataloader, model, loss_fn)\n",
    "\n",
    "    for i in range(len(_train_batch_loss)):\n",
    "        train_batch_loss.append(_train_batch_loss[i])\n",
    "        train_batch_accuracy.append(_train_batch_accuracy[i])\n",
    "        train_epoch_no.append(t + float((i + 1) / len(_train_batch_loss)))\n",
    "\n",
    "    for i in range(len(_valid_batch_loss)):\n",
    "        valid_batch_loss.append(_valid_batch_loss[i])\n",
    "        valid_batch_accuracy.append(_valid_batch_accuracy[i])\n",
    "        valid_epoch_no.append(t + float((i + 1) / len(_valid_batch_loss)))\n",
    "\n",
    "print(f\"torch time: {time.time() - start}\")"
   ]
  },
  {
   "cell_type": "code",
   "execution_count": null,
   "metadata": {},
   "outputs": [],
   "source": [
    "figure = plt.figure(figsize=(16, 16))\n",
    "\n",
    "\n",
    "figure.add_subplot(2, 2, 1)\n",
    "plt.plot(train_epoch_no, train_batch_accuracy)\n",
    "plt.title(\"Train Batch Accuracy\")\n",
    "plt.xlabel(\"Epochs\")\n",
    "plt.ylabel(\"Train Accuracy\")\n",
    "\n",
    "figure.add_subplot(2, 2, 2)\n",
    "plt.plot(train_epoch_no, train_batch_loss)\n",
    "plt.title(\"Train Batch Loss\")\n",
    "plt.xlabel(\"Epochs\")\n",
    "plt.ylabel(\"Train Loss\")\n",
    "\n",
    "figure.add_subplot(2, 2, 3)\n",
    "plt.plot(valid_epoch_no, valid_batch_accuracy)\n",
    "plt.title(\"Valid Batch Accuracy\")\n",
    "plt.xlabel(\"Epochs\")\n",
    "plt.ylabel(\"Train Accuracy\")\n",
    "\n",
    "figure.add_subplot(2, 2, 4)\n",
    "plt.plot(valid_epoch_no, valid_batch_loss)\n",
    "plt.title(\"Valid Batch Loss\")\n",
    "plt.xlabel(\"Epochs\")\n",
    "plt.ylabel(\"Train Loss\")\n",
    "\n",
    "\n",
    "plt.show()"
   ]
  },
  {
   "cell_type": "code",
   "execution_count": null,
   "metadata": {},
   "outputs": [],
   "source": [
    "# Run on test set\n",
    "y_pred = np.empty((0, 1))\n",
    "y_true = np.empty((0, 1))\n",
    "for batch, (X, y) in enumerate(test_dataloader):\n",
    "    X, y = X.to(device), y.to(device)\n",
    "    pred = model(X)\n",
    "    y_pred = np.append(y_pred, pred.argmax(1).cpu().numpy().reshape(-1, 1), axis=0)\n",
    "    y_true = np.append(y_true, y.argmax(1).cpu().numpy().reshape(-1, 1), axis=0)"
   ]
  },
  {
   "cell_type": "code",
   "execution_count": null,
   "metadata": {},
   "outputs": [],
   "source": [
    "# Plot confusion matrix\n",
    "cm = confusion_matrix(y_true, y_pred, labels=[0, 1, 2, 3, 4, 5, 6, 7, 8, 9])\n",
    "\n",
    "figure = plt.figure(figsize=(16, 16))\n",
    "\n",
    "ax = figure.add_subplot(1, 1, 1)\n",
    "\n",
    "ax.imshow(cm, interpolation=\"nearest\", cmap=plt.cm.Blues)\n",
    "ax.set_title(\"Confusion Matrix\")\n",
    "ax.set_xlabel(\"Predicted\")\n",
    "ax.set_ylabel(\"True\")\n",
    "\n",
    "plt.show()"
   ]
  }
 ],
 "metadata": {
  "kernelspec": {
   "display_name": ".venv",
   "language": "python",
   "name": "python3"
  },
  "language_info": {
   "codemirror_mode": {
    "name": "ipython",
    "version": 3
   },
   "file_extension": ".py",
   "mimetype": "text/x-python",
   "name": "python",
   "nbconvert_exporter": "python",
   "pygments_lexer": "ipython3",
   "version": "3.12.7"
  }
 },
 "nbformat": 4,
 "nbformat_minor": 2
}
