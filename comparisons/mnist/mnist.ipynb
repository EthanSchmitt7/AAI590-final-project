{
 "cells": [
  {
   "cell_type": "markdown",
   "metadata": {},
   "source": [
    "# MNIST Comparison"
   ]
  },
  {
   "cell_type": "markdown",
   "metadata": {},
   "source": [
    "---\n",
    "## Setup Instructions\n",
    "\n",
    "Before running this notebook, ensure you have the dataset ready. You have two options:\n",
    "\n",
    "1. **Automatic Download**: Run `setup.ipynb`, which will retrieve the data directly from Kaggle.\n",
    "2. **Manual Download**: Retrieve the dataset manually from [Kaggle's Digit Recognizer competition](https://www.kaggle.com/competitions/digit-recognizer) and extract the files into the `data/input` folder.\n",
    "\n",
    "---\n",
    "\n",
    "## Overview\n",
    "\n",
    "This notebook explores **training a neural network on the MNIST dataset** using **PyTorch** and **TurbaNet**, a framework for training multiple models concurrently. Our primary objectives include:\n",
    "\n",
    "- Training a **baseline PyTorch model** and evaluating its performance using a confusion matrix.\n",
    "- Training a **swarm of TurbaNet models** on the MNIST dataset.\n",
    "- Comparing the performance of PyTorch and TurbaNet models.\n",
    "- Demonstrating that **TurbaNet can train multiple models in the same time PyTorch takes to train a single model**, leveraging vectorization when memory constraints allow.\n",
    "\n",
    "---\n",
    "\n",
    "## Model Training Approach\n",
    "\n",
    "#### **Control Model (PyTorch)**\n",
    "We start with a standard neural network trained using PyTorch. The model will be evaluated based on **accuracy** and **loss metrics**.\n",
    "\n",
    "#### **Swarm-Based Training (TurbaNet)**\n",
    "Next, we employ TurbaNet to train multiple models **simultaneously**. This swarm-based approach aims to maximize **computational efficiency** while maintaining high accuracy.\n",
    "\n",
    "#### **Performance Comparison**\n",
    "After training, we will:\n",
    "- Compare the confusion matrices of both approaches.\n",
    "- Analyze batch-wise accuracy and loss trends.\n",
    "- Evaluate the real-time efficiency of TurbaNet compared to traditional training methods.\n"
   ]
  },
  {
   "cell_type": "code",
   "execution_count": null,
   "metadata": {},
   "outputs": [],
   "source": [
    "import time\n",
    "\n",
    "import matplotlib.pyplot as plt\n",
    "import numpy as np\n",
    "import optax\n",
    "import pandas as pd\n",
    "import seaborn as sns\n",
    "import torch\n",
    "\n",
    "from sklearn.metrics import confusion_matrix, precision_score, recall_score, f1_score\n",
    "from sklearn.model_selection import train_test_split\n",
    "from turbanet import TurbaTrainState"
   ]
  },
  {
   "cell_type": "code",
   "execution_count": null,
   "metadata": {},
   "outputs": [],
   "source": [
    "np.random.seed(0)\n",
    "torch.manual_seed(0)\n",
    "torch.cuda.manual_seed(0)\n",
    "torch.backends.cudnn.deterministic = True\n",
    "torch.backends.cudnn.benchmark = True"
   ]
  },
  {
   "cell_type": "markdown",
   "metadata": {},
   "source": [
    "---\n",
    "# Hyperparameters\n",
    "\n",
    "We define key hyperparameters for training our models, here is an example of a configuration:\n",
    "\n",
    "- **EPOCHS = 10** → Train for 10 full passes over the dataset.\n",
    "- **SWARM_SIZE = 5** → Train 5 models concurrently using TurbaNet.\n",
    "- **BATCH_SIZE = 32** → Process 32 images per training batch.\n",
    "- **BOOTSTRAP_SIZE = 2,000** -> Draw 2,000 samples from the dataset for each model in the swarm - if None, the entire dataset is used\n",
    "- **LR = 5e-5** → Learning rate set to `0.00005` for stable convergence.\n",
    "- **CPU = True** → Force PyTorch to use the CPU instead of the GPU. \n",
    "    - This can be helpful for comparing performance of the libraries when running on Windows machines as [Jax does not support GPUs running on Windows](https://docs.jax.dev/en/latest/installation.html).\n",
    "- **HIDDEN1 = 64**, **HIDDEN2 = 32** → Two-layer neural network with 64 and 32 neurons, respectively.\n",
    "\n",
    "These settings balance **training stability** and **efficiency**, leveraging **swarm-based training** to speed up model convergence.\n",
    "\n",
    "Feel free to tweak this values and examine the impact on training speed and effectivity."
   ]
  },
  {
   "cell_type": "markdown",
   "metadata": {},
   "source": [
    "## Training Parameters"
   ]
  },
  {
   "cell_type": "code",
   "execution_count": null,
   "metadata": {},
   "outputs": [],
   "source": [
    "EPOCHS = 10\n",
    "SWARM_SIZE = 50\n",
    "BATCH_SIZE = 8\n",
    "BOOTSTRAP_SIZE = None\n",
    "LR = 5e-5\n",
    "CPU = False"
   ]
  },
  {
   "cell_type": "markdown",
   "metadata": {},
   "source": [
    "## Model Parameters"
   ]
  },
  {
   "cell_type": "code",
   "execution_count": null,
   "metadata": {},
   "outputs": [],
   "source": [
    "HIDDEN1 = 64\n",
    "HIDDEN2 = 32"
   ]
  },
  {
   "cell_type": "markdown",
   "metadata": {},
   "source": [
    "---\n",
    "# Data Collection\n",
    "\n",
    "Before training our models, we need to **load and preprocess** the MNIST dataset.\n",
    "\n",
    "### Steps:\n",
    "1. **Load the Dataset**: We will use the data provided from [Kaggle's Digit Recognizer competition](https://www.kaggle.com/competitions/digit-recognizer) (see note at the top of this notebook for instructions on how to get this data).\n",
    "2. **Normalize the Data**: Convert images to tensors and normalize pixel values to the range `[0, 1]`.\n",
    "3. **Split into Training & Test Sets**: Ensure proper data segregation for model evaluation.\n"
   ]
  },
  {
   "cell_type": "code",
   "execution_count": null,
   "metadata": {},
   "outputs": [],
   "source": [
    "# Reading the data\n",
    "train_df = pd.read_csv(\"../../data/input/train.csv\")\n",
    "test_df = pd.read_csv(\"../../data/input/test.csv\")\n",
    "print(train_df.shape, test_df.shape)\n",
    "print(\"Train Cols : \", train_df.columns)\n",
    "print(\"Test Cols : \", test_df.columns)\n",
    "print(\" Label -  \", [i for i in train_df.columns if i not in test_df.columns])"
   ]
  },
  {
   "cell_type": "code",
   "execution_count": null,
   "metadata": {},
   "outputs": [],
   "source": [
    "train_df.head()"
   ]
  },
  {
   "cell_type": "code",
   "execution_count": null,
   "metadata": {},
   "outputs": [],
   "source": [
    "# Checking the distribution of the labels\n",
    "train_df[\"label\"].value_counts().sort_index()"
   ]
  },
  {
   "cell_type": "code",
   "execution_count": null,
   "metadata": {},
   "outputs": [],
   "source": [
    "# Convert df to numpy array\n",
    "images = np.array(train_df.iloc[:, 1:])"
   ]
  },
  {
   "cell_type": "code",
   "execution_count": null,
   "metadata": {},
   "outputs": [],
   "source": [
    "images.shape"
   ]
  },
  {
   "cell_type": "code",
   "execution_count": null,
   "metadata": {},
   "outputs": [],
   "source": [
    "# Scaling the image so that the values only range between 0 and 1\n",
    "images = images / 255.0"
   ]
  },
  {
   "cell_type": "code",
   "execution_count": null,
   "metadata": {},
   "outputs": [],
   "source": [
    "# Convert labels to one-hot encoding tensor\n",
    "labels = np.array(train_df[\"label\"])\n",
    "image_label = np.zeros((images.shape[0], 10))\n",
    "image_label[np.arange(images.shape[0]), labels] = 1.0"
   ]
  },
  {
   "cell_type": "code",
   "execution_count": null,
   "metadata": {},
   "outputs": [],
   "source": [
    "# Splitting the dataset into train, validation and test\n",
    "X_train, X_val, y_train, y_val = train_test_split(\n",
    "    images, image_label, test_size=0.2, stratify=train_df[\"label\"]\n",
    ")\n",
    "X_val, X_test, y_val, y_test = train_test_split(X_val, y_val, test_size=0.5)"
   ]
  },
  {
   "cell_type": "code",
   "execution_count": null,
   "metadata": {},
   "outputs": [],
   "source": [
    "print(X_train.shape)\n",
    "print(y_train.shape)\n",
    "print(X_val.shape)\n",
    "print(y_val.shape)\n",
    "print(X_test.shape)\n",
    "print(y_test.shape)"
   ]
  },
  {
   "cell_type": "code",
   "execution_count": null,
   "metadata": {},
   "outputs": [],
   "source": [
    "# Ploting some of the datapoints in the dataset\n",
    "figure = plt.figure(figsize=(8, 8))\n",
    "cols, rows = 3, 3\n",
    "figure.add_subplot(rows, cols, 1)\n",
    "plt.axis(\"off\")\n",
    "for i in range(1, cols * rows + 1):\n",
    "    sample_idx = torch.randint(len(X_train), size=(1,)).item()\n",
    "    sample_img = X_train[sample_idx].reshape(28, 28)\n",
    "    sample_lbl = np.argmax(y_train[sample_idx])\n",
    "    figure.add_subplot(rows, cols, i)\n",
    "    plt.title(sample_lbl)\n",
    "    plt.axis(\"off\")\n",
    "    plt.imshow(sample_img.squeeze(), cmap=\"gray\")\n",
    "plt.show()"
   ]
  },
  {
   "cell_type": "code",
   "execution_count": null,
   "metadata": {},
   "outputs": [],
   "source": [
    "# Generate batches of data\n",
    "X_train = torch.Tensor(X_train)\n",
    "y_train = torch.Tensor(y_train)\n",
    "\n",
    "X_val = torch.Tensor(X_val)\n",
    "y_val = torch.Tensor(y_val)\n",
    "\n",
    "y_test = torch.Tensor(y_test)\n",
    "X_test = torch.Tensor(X_test)\n",
    "\n",
    "train_dataset = torch.utils.data.TensorDataset(X_train, y_train)\n",
    "train_dataloader = torch.utils.data.DataLoader(\n",
    "    train_dataset,\n",
    "    batch_size=BATCH_SIZE,\n",
    "    shuffle=True,\n",
    ")\n",
    "val_dataloader = torch.utils.data.DataLoader(\n",
    "    torch.utils.data.TensorDataset(X_val, y_val), batch_size=BATCH_SIZE, shuffle=False\n",
    ")\n",
    "test_dataloader = torch.utils.data.DataLoader(\n",
    "    torch.utils.data.TensorDataset(X_test, y_test), batch_size=BATCH_SIZE, shuffle=True\n",
    ")\n"
   ]
  },
  {
   "cell_type": "markdown",
   "metadata": {},
   "source": [
    "---\n",
    "# PyTorch Model Training\n",
    "\n",
    "In this section, we implement a **baseline neural network** using PyTorch to establish a performance benchmark.\n",
    "\n",
    "### Model Architecture:\n",
    "- **Fully connected neural network** with two hidden layers.\n",
    "- **ReLU activations** for non-linearity.\n",
    "- **Softmax output layer** for digit classification (0-9).\n",
    "\n",
    "### Training Details:\n",
    "- **Loss Function**: Cross-Entropy Loss\n",
    "- **Optimizer**: Adam\n",
    "\n",
    "This PyTorch model serves as a **control experiment**, helping us compare its efficiency and accuracy against the **swarm-based training** approach used in TurbaNet.\n"
   ]
  },
  {
   "cell_type": "code",
   "execution_count": null,
   "metadata": {},
   "outputs": [],
   "source": [
    "## Checking if the GPU is being used properly.\n",
    "DEVICE = torch.device(\"cuda\" if torch.cuda.is_available() and not CPU else \"cpu\")\n",
    "print(\"Using device:\", DEVICE)"
   ]
  },
  {
   "cell_type": "markdown",
   "metadata": {},
   "source": [
    "## Model/Optimizer/Loss Definitions"
   ]
  },
  {
   "cell_type": "code",
   "execution_count": null,
   "metadata": {},
   "outputs": [],
   "source": [
    "from torch import nn\n",
    "\n",
    "\n",
    "# Softmax layer ignored since the loss function defined is nn.CrossEntropy()\n",
    "class MyOwnNeuralNetwork(nn.Module):\n",
    "    def __init__(self):\n",
    "        super(MyOwnNeuralNetwork, self).__init__()\n",
    "        self.flatten = nn.Flatten()\n",
    "        self.linear_relu_stack = nn.Sequential(\n",
    "            nn.Linear(784, HIDDEN1),\n",
    "            nn.ReLU(),\n",
    "            nn.Linear(HIDDEN1, HIDDEN2),\n",
    "            nn.ReLU(),\n",
    "            nn.Linear(HIDDEN2, 10),\n",
    "        )\n",
    "\n",
    "    def forward(self, x):\n",
    "        x = self.flatten(x)\n",
    "        logits = self.linear_relu_stack(x)\n",
    "        return logits\n",
    "\n",
    "\n",
    "torch_model = MyOwnNeuralNetwork().to(DEVICE)\n",
    "print(torch_model)\n"
   ]
  },
  {
   "cell_type": "code",
   "execution_count": null,
   "metadata": {},
   "outputs": [],
   "source": [
    "## Defining optimizer and loss functions\n",
    "loss_fn = nn.CrossEntropyLoss()\n",
    "optimizer = torch.optim.Adam(torch_model.parameters(), lr=LR)"
   ]
  },
  {
   "cell_type": "markdown",
   "metadata": {},
   "source": [
    "## Helper Functions"
   ]
  },
  {
   "cell_type": "code",
   "execution_count": null,
   "metadata": {},
   "outputs": [],
   "source": [
    "def pytorch_train(dataloader, model, loss_fn, optimizer):\n",
    "    size = 0\n",
    "    correct = 0\n",
    "\n",
    "    batch_loss = np.zeros(len(dataloader))\n",
    "    batch_accuracy = np.zeros(len(dataloader))\n",
    "\n",
    "    for batch, (X, y) in enumerate(dataloader):\n",
    "        # Feedforward / Loss\n",
    "        X, y = X.to(DEVICE), y.to(DEVICE)\n",
    "        pred = model(X)\n",
    "        loss = loss_fn(pred, y)\n",
    "\n",
    "        # Backprop\n",
    "        optimizer.zero_grad()\n",
    "        loss.backward()\n",
    "        optimizer.step()\n",
    "\n",
    "        # Accuracy\n",
    "        _correct = (pred.argmax(1) == y.argmax(1)).type(torch.float32).sum().item()\n",
    "\n",
    "        # Updating loss_batch and batch_accuracy\n",
    "        batch_loss[batch] = loss.item()\n",
    "        batch_accuracy[batch] = _correct / X.shape[0]\n",
    "\n",
    "        # Updating size and correct\n",
    "        size += X.shape[0]\n",
    "        correct += _correct\n",
    "\n",
    "        if batch % 100 == 0:\n",
    "            loss = loss.item()\n",
    "            current = batch * X.shape[0]\n",
    "            print(f\"loss: {loss:>7f}  [{current:>5d}]\")\n",
    "\n",
    "    accuracy = correct / size\n",
    "    print(f\"Train Accuracy: {(100 * accuracy):>0.1f}%\")\n",
    "\n",
    "    return batch_loss, batch_accuracy\n"
   ]
  },
  {
   "cell_type": "code",
   "execution_count": null,
   "metadata": {},
   "outputs": [],
   "source": [
    "def pytorch_validation(dataloader, model, loss_fn):\n",
    "    size = 0\n",
    "    correct = 0\n",
    "\n",
    "    batch_loss = np.zeros(len(dataloader))\n",
    "    batch_accuracy = np.zeros(len(dataloader))\n",
    "    with torch.no_grad():\n",
    "        for batch, (X, y) in enumerate(dataloader):\n",
    "            # Feedforward / Loss\n",
    "            X, y = X.to(DEVICE), y.to(DEVICE)\n",
    "            pred = model(X)\n",
    "            loss = loss_fn(pred, y)\n",
    "\n",
    "            # Accuracy\n",
    "            _correct = (pred.argmax(1) == y.argmax(1)).type(torch.float32).sum().item()\n",
    "\n",
    "            # Updating loss_batch and batch_accuracy\n",
    "            batch_loss[batch] = loss.item()\n",
    "            batch_accuracy[batch] = _correct / X.shape[0]\n",
    "\n",
    "            # Updating size and correct\n",
    "            size += X.shape[0]\n",
    "            correct += _correct\n",
    "\n",
    "    accuracy = correct / size\n",
    "    print(f\"Validation Accuracy: {(100 * accuracy):>0.1f}%\")\n",
    "\n",
    "    return batch_loss, batch_accuracy"
   ]
  },
  {
   "cell_type": "markdown",
   "metadata": {},
   "source": [
    "## Training"
   ]
  },
  {
   "cell_type": "code",
   "execution_count": null,
   "metadata": {},
   "outputs": [],
   "source": [
    "start = time.time()\n",
    "train_batch_loss = []\n",
    "train_batch_accuracy = []\n",
    "train_epoch_no = []\n",
    "\n",
    "for t in range(EPOCHS):\n",
    "    print(f\"\\nEpoch {t + 1}\\n-------------------------------\")\n",
    "    torch_model.train()\n",
    "    _train_batch_loss, _train_batch_accuracy = pytorch_train(\n",
    "        train_dataloader, torch_model, loss_fn, optimizer\n",
    "    )\n",
    "\n",
    "    torch_model.eval()\n",
    "    _valid_batch_loss, _valid_batch_accuracy = pytorch_validation(\n",
    "        val_dataloader, torch_model, loss_fn\n",
    "    )\n",
    "\n",
    "    for i in range(len(_train_batch_loss)):\n",
    "        train_batch_loss.append(_train_batch_loss[i])\n",
    "        train_batch_accuracy.append(_train_batch_accuracy[i])\n",
    "        train_epoch_no.append(t + float((i + 1) / len(_train_batch_loss)))\n",
    "\n",
    "    if t == 0:\n",
    "        valid_batch_loss = _valid_batch_loss\n",
    "        valid_batch_accuracy = _valid_batch_accuracy\n",
    "    else:\n",
    "        valid_batch_loss = np.vstack((valid_batch_loss, _valid_batch_loss))\n",
    "        valid_batch_accuracy = np.vstack((valid_batch_accuracy, _valid_batch_accuracy))\n",
    "\n",
    "torch_time = time.time() - start\n",
    "print(f\"torch time: {torch_time}\")"
   ]
  },
  {
   "cell_type": "code",
   "execution_count": null,
   "metadata": {},
   "outputs": [],
   "source": [
    "figure = plt.figure(figsize=(16, 8))\n",
    "\n",
    "\n",
    "figure.add_subplot(1, 2, 1)\n",
    "plt.plot(train_epoch_no, train_batch_accuracy)\n",
    "plt.plot(np.arange(1, EPOCHS + 1), valid_batch_accuracy.mean(axis=1))\n",
    "plt.legend([\"Batch Train\", \"Validation\"])\n",
    "plt.title(\"Accuracy\")\n",
    "plt.xlabel(\"Epochs\")\n",
    "plt.ylabel(\"Train Accuracy\")\n",
    "\n",
    "figure.add_subplot(1, 2, 2)\n",
    "plt.plot(train_epoch_no, train_batch_loss)\n",
    "plt.plot(np.arange(1, EPOCHS + 1), valid_batch_loss.mean(axis=1))\n",
    "plt.legend([\"Batch Train\", \"Validation\"])\n",
    "plt.title(\"Train Batch Loss\")\n",
    "plt.xlabel(\"Epochs\")\n",
    "plt.ylabel(\"Train Loss\")\n",
    "\n",
    "\n",
    "plt.show()"
   ]
  },
  {
   "cell_type": "markdown",
   "metadata": {},
   "source": [
    "---\n",
    "# TurbaNet: Swarm-Based Training\n",
    "\n",
    "TurbaNet is a framework designed to train multiple neural networks **simultaneously** using a swarm-based approach. Instead of training a single model sequentially, TurbaNet **vectorizes the training process**, leveraging hardware efficiency for faster convergence.\n",
    "\n",
    "### Model Architecture:\n",
    "Each model in the swarm follows the same **fully connected** architecture:\n",
    "- **Fully connected neural network** with two hidden layers.\n",
    "- **ReLU activations** for non-linearity.\n",
    "- **Softmax output layer** for digit classification (0-9).\n",
    "\n",
    "### Training Details:\n",
    "- **Loss Function**: Cross-Entropy Loss\n",
    "- **Optimizer**: Adam\n",
    "\n",
    "By training multiple models in parallel, TurbaNet **achieves efficiency gains** over standard PyTorch training, making it ideal for large-scale deep learning tasks.\n"
   ]
  },
  {
   "cell_type": "markdown",
   "metadata": {},
   "source": [
    "## Setup Bootstrap Training Dataset "
   ]
  },
  {
   "cell_type": "code",
   "execution_count": null,
   "metadata": {},
   "outputs": [],
   "source": [
    "if BOOTSTRAP_SIZE is None:\n",
    "    BOOTSTRAP_SIZE = X_train.shape[0]"
   ]
  },
  {
   "cell_type": "code",
   "execution_count": null,
   "metadata": {},
   "outputs": [],
   "source": [
    "X_train_turba = np.zeros((BOOTSTRAP_SIZE, SWARM_SIZE))\n",
    "y_train_turba = np.zeros((BOOTSTRAP_SIZE, SWARM_SIZE))\n",
    "\n",
    "# Random Bootstrapping with resampling\n",
    "x = X_train.numpy()\n",
    "y = y_train.numpy()\n",
    "for i in range(SWARM_SIZE):\n",
    "    index = np.random.randint(0, X_train.shape[0], BOOTSTRAP_SIZE)\n",
    "    X_train_turba[:, i] = index\n",
    "    y_train_turba[:, i] = index"
   ]
  },
  {
   "cell_type": "code",
   "execution_count": null,
   "metadata": {},
   "outputs": [],
   "source": [
    "# Setup bootstrapping of training data\n",
    "turba_train_dataset = torch.utils.data.TensorDataset(\n",
    "    torch.Tensor(X_train_turba), torch.Tensor(y_train_turba)\n",
    ")\n",
    "turba_train_dataloader = torch.utils.data.DataLoader(\n",
    "    turba_train_dataset,\n",
    "    batch_size=BATCH_SIZE,\n",
    "    shuffle=True,\n",
    ")"
   ]
  },
  {
   "cell_type": "markdown",
   "metadata": {},
   "source": [
    "## Model/Optimizer/Loss Definitions"
   ]
  },
  {
   "cell_type": "code",
   "execution_count": null,
   "metadata": {},
   "outputs": [],
   "source": [
    "from flax import linen as nn\n",
    "\n",
    "\n",
    "# Softmax layer ignored since the loss function defined is nn.CrossEntropy()\n",
    "class Brain(nn.Module):\n",
    "    @nn.compact\n",
    "    def __call__(self, x):  # noqa ANN001\n",
    "        x = nn.Dense(HIDDEN1)(x)\n",
    "        x = nn.relu(x)\n",
    "        x = nn.Dense(HIDDEN2)(x)\n",
    "        x = nn.relu(x)\n",
    "        x = nn.Dense(10)(x)\n",
    "\n",
    "        return x\n"
   ]
  },
  {
   "cell_type": "code",
   "execution_count": null,
   "metadata": {},
   "outputs": [],
   "source": [
    "optimizer = optax.adam(learning_rate=LR)"
   ]
  },
  {
   "cell_type": "code",
   "execution_count": null,
   "metadata": {},
   "outputs": [],
   "source": [
    "turba_models = TurbaTrainState.swarm(\n",
    "    Brain(), optimizer, swarm_size=SWARM_SIZE, sample_input=X_train[0]\n",
    ")"
   ]
  },
  {
   "cell_type": "markdown",
   "metadata": {},
   "source": [
    "## Helper Functions"
   ]
  },
  {
   "cell_type": "code",
   "execution_count": null,
   "metadata": {},
   "outputs": [],
   "source": [
    "from turbanet import softmax_cross_entropy\n",
    "\n",
    "\n",
    "def turbanet_train(\n",
    "    X_data: torch.Tensor,\n",
    "    y_data: torch.Tensor,\n",
    "    dataloader: torch.utils.data.DataLoader,\n",
    "    model: TurbaTrainState,\n",
    "):\n",
    "    size = 0\n",
    "    correct = 0\n",
    "\n",
    "    batch_loss = np.zeros(len(dataloader))\n",
    "    batch_accuracy = np.zeros(len(dataloader))\n",
    "\n",
    "    for batch, (X, y) in enumerate(dataloader):\n",
    "        # Reshape data\n",
    "        X = X_data[torch.transpose(X, 1, 0).numpy()]\n",
    "        y = y_data[torch.transpose(y, 1, 0).numpy()]\n",
    "\n",
    "        # Feedforward / Loss\n",
    "        model, loss, prediction = model.train(X, y, softmax_cross_entropy)\n",
    "\n",
    "        # Accuracy\n",
    "        _correct = (prediction.argmax(axis=2) == y.numpy().argmax(axis=2)).astype(int).sum(axis=1)\n",
    "\n",
    "        # Updating loss_batch and batch_accuracy\n",
    "        batch_loss[batch] = loss.mean().item()\n",
    "        batch_accuracy[batch] = (_correct / X.shape[1]).mean().item()\n",
    "\n",
    "        # Updating size and correct\n",
    "        size += X.shape[1]\n",
    "        correct += _correct\n",
    "\n",
    "        if batch % 100 == 0:\n",
    "            loss = loss.mean().item()\n",
    "            print(f\"loss: {loss:>7f}  [{size:>5d}]\")\n",
    "\n",
    "    accuracy = (correct / size).mean().item()\n",
    "    print(f\"Average Train Accuracy: {(100 * accuracy):>0.1f}%\")\n",
    "\n",
    "    return model, batch_loss, batch_accuracy\n"
   ]
  },
  {
   "cell_type": "code",
   "execution_count": null,
   "metadata": {},
   "outputs": [],
   "source": [
    "def turbanet_validation(dataloader, model):\n",
    "    size = 0\n",
    "    model_correct = 0\n",
    "    ensamble_correct = 0\n",
    "\n",
    "    batch_loss = np.zeros(len(dataloader))\n",
    "    batch_model_accuracy = np.zeros(len(dataloader))\n",
    "    batch_ensamble_accuracy = np.zeros(len(dataloader))\n",
    "    for batch, (X, y) in enumerate(dataloader):\n",
    "        # Repeat for swarm_size times\n",
    "        X = np.expand_dims(X.numpy(), 0).repeat(len(model), axis=0)\n",
    "        y_expanded = np.expand_dims(y.numpy(), 0).repeat(len(model), axis=0)\n",
    "\n",
    "        # Feedforward / Loss\n",
    "        loss, prediction = model.evaluate(X, y_expanded, softmax_cross_entropy)\n",
    "\n",
    "        # Accuracy\n",
    "        _ensamble_correct = (\n",
    "            (prediction.mean(axis=0).argmax(axis=1) == y.numpy().argmax(axis=1))\n",
    "            .astype(int)\n",
    "            .sum(axis=0)\n",
    "        )\n",
    "        _correct = (prediction.argmax(axis=2) == y_expanded.argmax(axis=2)).astype(int).sum(axis=1)\n",
    "\n",
    "        # Updating loss_batch and batch_accuracy\n",
    "        batch_loss[batch] = loss.mean().item()\n",
    "        batch_model_accuracy[batch] = (_correct / X.shape[1]).mean().item()\n",
    "        batch_ensamble_accuracy[batch] = (_ensamble_correct / X.shape[1]).mean().item()\n",
    "\n",
    "        # Updating size and correct\n",
    "        size += X.shape[1]\n",
    "        model_correct += _correct\n",
    "        ensamble_correct += _ensamble_correct\n",
    "\n",
    "    model_accuracy = (model_correct / size).mean().item()\n",
    "    ensamble_accuracy = (ensamble_correct / size).item()\n",
    "    print(f\"Average Validation Accuracy: {(100 * model_accuracy):>0.1f}%\")\n",
    "    print(f\"Ensamble Validation Accuracy: {(100 * ensamble_accuracy):>0.1f}%\")\n",
    "\n",
    "    return batch_loss, batch_model_accuracy, batch_ensamble_accuracy"
   ]
  },
  {
   "cell_type": "markdown",
   "metadata": {},
   "source": [
    "## Training"
   ]
  },
  {
   "cell_type": "code",
   "execution_count": null,
   "metadata": {},
   "outputs": [],
   "source": [
    "start = time.time()\n",
    "train_epoch_no = []\n",
    "train_batch_loss = []\n",
    "train_batch_accuracy = []\n",
    "\n",
    "for t in range(EPOCHS):\n",
    "    print(f\"Epoch {t + 1}\\n-------------------------------\")\n",
    "    turba_models, _train_batch_loss, _train_batch_accuracy = turbanet_train(\n",
    "        X_train, y_train, turba_train_dataloader, turba_models\n",
    "    )\n",
    "    _valid_batch_loss, _valid_model_batch_accuracy, _valid_ensamble_batch_accuracy = (\n",
    "        turbanet_validation(val_dataloader, turba_models)\n",
    "    )\n",
    "\n",
    "    for i in range(len(_train_batch_loss)):\n",
    "        train_batch_loss.append(_train_batch_loss[i])\n",
    "        train_batch_accuracy.append(_train_batch_accuracy[i])\n",
    "        train_epoch_no.append(t + float((i + 1) / len(_train_batch_loss)))\n",
    "\n",
    "    if t == 0:\n",
    "        valid_batch_loss = _valid_batch_loss\n",
    "        valid_model_batch_accuracy = _valid_model_batch_accuracy\n",
    "        valid_ensamble_batch_accuracy = _valid_ensamble_batch_accuracy\n",
    "    else:\n",
    "        valid_batch_loss = np.vstack((valid_batch_loss, _valid_batch_loss))\n",
    "        valid_model_batch_accuracy = np.vstack(\n",
    "            (valid_model_batch_accuracy, _valid_model_batch_accuracy)\n",
    "        )\n",
    "        valid_ensamble_batch_accuracy = np.vstack(\n",
    "            (valid_ensamble_batch_accuracy, _valid_ensamble_batch_accuracy)\n",
    "        )\n",
    "\n",
    "turba_time = time.time() - start\n",
    "print(f\"turba time: {turba_time}\")"
   ]
  },
  {
   "cell_type": "code",
   "execution_count": null,
   "metadata": {},
   "outputs": [],
   "source": [
    "figure = plt.figure(figsize=(16, 8))\n",
    "\n",
    "\n",
    "figure.add_subplot(1, 2, 1)\n",
    "plt.plot(train_epoch_no, train_batch_accuracy)\n",
    "plt.plot(np.arange(1, EPOCHS + 1), valid_model_batch_accuracy.mean(axis=1))\n",
    "plt.plot(np.arange(1, EPOCHS + 1), valid_ensamble_batch_accuracy.mean(axis=1))\n",
    "plt.legend([\"Batch Train\", \"Validation Model Average\", \"Validation Ensamble\"])\n",
    "plt.title(\"Accuracy\")\n",
    "plt.xlabel(\"Epochs\")\n",
    "plt.ylabel(\"Train Accuracy\")\n",
    "\n",
    "figure.add_subplot(1, 2, 2)\n",
    "plt.plot(train_epoch_no, train_batch_loss)\n",
    "plt.plot(np.arange(1, EPOCHS + 1), valid_batch_loss.mean(axis=1))\n",
    "plt.legend([\"Batch Train\", \"Validation\"])\n",
    "plt.title(\"Loss\")\n",
    "plt.xlabel(\"Epochs\")\n",
    "plt.ylabel(\"Train Loss\")\n",
    "\n",
    "\n",
    "plt.show()"
   ]
  },
  {
   "cell_type": "markdown",
   "metadata": {},
   "source": [
    "# Results Comparison"
   ]
  },
  {
   "cell_type": "markdown",
   "metadata": {},
   "source": [
    "## Torch on Test Set"
   ]
  },
  {
   "cell_type": "code",
   "execution_count": null,
   "metadata": {},
   "outputs": [],
   "source": [
    "# Run Torch model on test set\n",
    "torch_y_pred = np.empty((0, 1))\n",
    "torch_y_true = np.empty((0, 1))\n",
    "for batch, (X, y) in enumerate(test_dataloader):\n",
    "    X, y = X.to(DEVICE), y.to(DEVICE)\n",
    "    pred = torch_model(X)\n",
    "    torch_y_pred = np.append(torch_y_pred, pred.argmax(1).cpu().numpy().reshape(-1, 1), axis=0)\n",
    "    torch_y_true = np.append(torch_y_true, y.argmax(1).cpu().numpy().reshape(-1, 1), axis=0)\n",
    "\n",
    "# Total accuracy on test set\n",
    "torch_accuracy = (torch_y_pred == torch_y_true).mean()\n",
    "torch_precision = precision_score(torch_y_true, torch_y_pred, average=\"macro\")\n",
    "torch_recall = recall_score(torch_y_true, torch_y_pred, average=\"macro\")\n",
    "torch_f1 = f1_score(torch_y_true, torch_y_pred, average=\"macro\")\n",
    "print(\"PyTorch\")\n",
    "print(f\"Accuracy: {(100 * torch_accuracy):>0.1f}%\")\n",
    "print(f\"Precision: {(100 * torch_precision):>0.1f}%\")\n",
    "print(f\"Recall: {(100 * torch_recall):>0.1f}%\")\n",
    "print(f\"F1: {(100 * torch_f1):>0.1f}%\")"
   ]
  },
  {
   "cell_type": "code",
   "execution_count": null,
   "metadata": {},
   "outputs": [],
   "source": [
    "# Plot confusion matrix\n",
    "cm = confusion_matrix(torch_y_true, torch_y_pred, labels=[0, 1, 2, 3, 4, 5, 6, 7, 8, 9])\n",
    "\n",
    "figure = plt.figure(figsize=(8, 8))\n",
    "\n",
    "ax = figure.add_subplot(1, 1, 1)\n",
    "\n",
    "ax.imshow(cm, interpolation=\"nearest\", cmap=plt.cm.Blues)\n",
    "ax.set_title(\"Confusion Matrix\")\n",
    "ax.set_xlabel(\"Predicted\")\n",
    "ax.set_ylabel(\"True\")\n",
    "\n",
    "plt.show()"
   ]
  },
  {
   "cell_type": "markdown",
   "metadata": {},
   "source": [
    "## Turba on Test Set"
   ]
  },
  {
   "cell_type": "code",
   "execution_count": null,
   "metadata": {},
   "outputs": [],
   "source": [
    "# Run Turba models on test set\n",
    "turba_y_pred_models = np.empty((SWARM_SIZE, 0))\n",
    "turba_y_pred_ensamble = np.empty((0, 0))\n",
    "turba_y_true = np.empty((0, 0))\n",
    "for X, y in test_dataloader:\n",
    "    X = np.expand_dims(X.numpy(), 0).repeat(len(turba_models), axis=0)\n",
    "    y = np.expand_dims(y.numpy(), 0).repeat(len(turba_models), axis=0)\n",
    "\n",
    "    prediction = turba_models.predict(X)\n",
    "    model_predictions = prediction.argmax(axis=2)\n",
    "    ensamble_prediction = prediction.mean(axis=0).argmax(axis=1)\n",
    "    truth = np.argmax(y[0], axis=1)\n",
    "\n",
    "    turba_y_pred_models = np.append(turba_y_pred_models, model_predictions, axis=1)\n",
    "    turba_y_pred_ensamble = np.append(turba_y_pred_ensamble, ensamble_prediction)\n",
    "    turba_y_true = np.append(turba_y_true, truth)\n",
    "\n",
    "# Average total accuracy on test set\n",
    "turba_model_accuracies = (turba_y_pred_models == turba_y_true).mean(axis=1)\n",
    "turba_model_precisions = [\n",
    "    precision_score(turba_y_true, turba_y_pred_models[i], average=\"macro\")\n",
    "    for i in range(SWARM_SIZE)\n",
    "]\n",
    "turba_model_recalls = [\n",
    "    recall_score(turba_y_true, turba_y_pred_models[i], average=\"macro\") for i in range(SWARM_SIZE)\n",
    "]\n",
    "turba_model_f1s = [\n",
    "    f1_score(turba_y_true, turba_y_pred_models[i], average=\"macro\") for i in range(SWARM_SIZE)\n",
    "]\n",
    "turba_model_accuracy = np.mean(turba_model_accuracies)\n",
    "turba_model_precision = np.mean(turba_model_precisions)\n",
    "turba_model_recall = np.mean(turba_model_recalls)\n",
    "turba_model_f1 = np.mean(turba_model_f1s)\n",
    "print(\"Average Model\")\n",
    "print(f\"Accuracy: {(100 * np.mean(turba_model_accuracy)):>0.1f}%\")\n",
    "print(f\"Precision: {(100 * np.mean(turba_model_precision)):>0.1f}%\")\n",
    "print(f\"Recall: {(100 * np.mean(turba_model_recall)):>0.1f}%\")\n",
    "print(f\"F1: {(100 * np.mean(turba_model_f1)):>0.1f}%\")\n",
    "\n",
    "turba_ensamble_accuracy = (turba_y_pred_ensamble == turba_y_true).mean()\n",
    "turba_ensamble_precision = precision_score(turba_y_true, turba_y_pred_ensamble, average=\"macro\")\n",
    "turba_ensamble_recall = recall_score(turba_y_true, turba_y_pred_ensamble, average=\"macro\")\n",
    "turba_ensamble_f1 = f1_score(turba_y_true, turba_y_pred_ensamble, average=\"macro\")\n",
    "print(\"\\nEnsamble\")\n",
    "print(f\"Accuracy: {(100 * np.mean(turba_ensamble_accuracy)):>0.1f}%\")\n",
    "print(f\"Precision: {(100 * np.mean(turba_ensamble_precision)):>0.1f}%\")\n",
    "print(f\"Recall: {(100 * np.mean(turba_ensamble_recall)):>0.1f}%\")\n",
    "print(f\"F1: {(100 * np.mean(turba_ensamble_f1)):>0.1f}%\")"
   ]
  },
  {
   "cell_type": "code",
   "execution_count": null,
   "metadata": {},
   "outputs": [],
   "source": [
    "# Subplot of predictions vs ground truth (x by x)\n",
    "fig = plt.figure(figsize=(16, 16))\n",
    "\n",
    "# Shared axes\n",
    "for i in range(SWARM_SIZE):\n",
    "    ax = fig.add_subplot(\n",
    "        int(np.ceil(np.sqrt(SWARM_SIZE))), int(np.ceil(np.sqrt(SWARM_SIZE))), i + 1\n",
    "    )\n",
    "\n",
    "    # Confusion matrix\n",
    "    cm = confusion_matrix(\n",
    "        turba_y_true, turba_y_pred_models[i], labels=[0, 1, 2, 3, 4, 5, 6, 7, 8, 9]\n",
    "    )\n",
    "    ax.imshow(cm, interpolation=\"nearest\", cmap=plt.cm.Blues)\n",
    "\n",
    "    # Labels\n",
    "    ax.set_title(f\"Confusion Matrix {i}\")\n",
    "    ax.set_xlabel(\"Predicted\")\n",
    "    ax.set_ylabel(\"True\")\n",
    "\n",
    "plt.show()"
   ]
  },
  {
   "cell_type": "code",
   "execution_count": null,
   "metadata": {},
   "outputs": [],
   "source": [
    "# Plot confusion matrix\n",
    "cm = confusion_matrix(turba_y_true, turba_y_pred_ensamble, labels=[0, 1, 2, 3, 4, 5, 6, 7, 8, 9])\n",
    "\n",
    "figure = plt.figure(figsize=(8, 8))\n",
    "\n",
    "ax = figure.add_subplot(1, 1, 1)\n",
    "\n",
    "ax.imshow(cm, interpolation=\"nearest\", cmap=plt.cm.Blues)\n",
    "ax.set_title(\"Confusion Matrix\")\n",
    "ax.set_xlabel(\"Predicted\")\n",
    "ax.set_ylabel(\"True\")\n",
    "\n",
    "plt.show()"
   ]
  },
  {
   "cell_type": "markdown",
   "metadata": {},
   "source": [
    "## Torch v. Turba"
   ]
  },
  {
   "cell_type": "code",
   "execution_count": null,
   "metadata": {},
   "outputs": [],
   "source": [
    "# Confusion Matrix for PyTorch\n",
    "cm_pytorch = confusion_matrix(torch_y_true, torch_y_pred)\n",
    "\n",
    "# Confusion Matrix for TurbaNet (Average across models)\n",
    "cm_turbanet_models = sum(\n",
    "    confusion_matrix(turba_y_true, pred) for pred in turba_y_pred_models\n",
    ") / len(turba_models)\n",
    "\n",
    "# Confusion Matrix for TurbaNet (Ensamble)\n",
    "cm_turbanet_ensamble = confusion_matrix(turba_y_true, turba_y_pred_ensamble)"
   ]
  },
  {
   "cell_type": "code",
   "execution_count": null,
   "metadata": {},
   "outputs": [],
   "source": [
    "# Plot comparison\n",
    "fig, axes = plt.subplots(1, 3, figsize=(22, 5))\n",
    "\n",
    "sns.heatmap(cm_pytorch, annot=True, fmt=\"d\", cmap=\"Blues\", ax=axes[0])\n",
    "axes[0].set_title(f\"PyTorch Model\\nAccuracy: {torch_accuracy:.2%}\")\n",
    "\n",
    "sns.heatmap(cm_turbanet_models, annot=True, fmt=\".1f\", cmap=\"Blues\", ax=axes[1])\n",
    "axes[1].set_title(f\"TurbaNet Models Average\\nAccuracy: {turba_model_accuracy:.2%}\")\n",
    "\n",
    "sns.heatmap(cm_turbanet_ensamble, annot=True, fmt=\".1f\", cmap=\"Blues\", ax=axes[2])\n",
    "axes[2].set_title(f\"TurbaNet Ensamble\\nAccuracy: {turba_ensamble_accuracy:.2%}\")\n",
    "\n",
    "plt.show()\n"
   ]
  },
  {
   "cell_type": "code",
   "execution_count": null,
   "metadata": {},
   "outputs": [],
   "source": [
    "# Plot comparison\n",
    "fig, axes = plt.subplots(1, 2, figsize=(16, 5))\n",
    "\n",
    "# Difference between TurbaNet (Average across models) and TurbaNet Ensamble\n",
    "diff = cm_turbanet_ensamble - cm_turbanet_models\n",
    "sns.heatmap(diff, annot=True, fmt=\".1f\", cmap=\"coolwarm\", ax=axes[0], center=0)\n",
    "axes[0].set_title(\"TurbaNet Ensamble - TurbaNet Models Average\")\n",
    "\n",
    "# Difference between PyTorch and TurbaNet Ensamble\n",
    "diff = cm_turbanet_ensamble - cm_pytorch\n",
    "sns.heatmap(diff, annot=True, fmt=\"d\", cmap=\"coolwarm\", ax=axes[1], center=0)\n",
    "axes[1].set_title(\"TurbaNet Ensamble - PyTorch\")\n",
    "\n",
    "plt.show()\n"
   ]
  },
  {
   "cell_type": "code",
   "execution_count": null,
   "metadata": {},
   "outputs": [],
   "source": [
    "from IPython.core.display import display_functions, HTML\n",
    "\n",
    "output = \"\"\"\n",
    "====================================================================================\n",
    "Model       Training Time    Accuracy    Precision      Recall      F1-Score\n",
    "====================================================================================\n",
    "PyTorch       {:.2f} sec     {:>6.1f}%      {:>6.1f}%      {:>6.1f}%      {:>6.1f}%\n",
    "------------------------------------------------------------------------------------\n",
    "Turba (Avg)   {:.2f} sec     {:>6.1f}%      {:>6.1f}%      {:>6.1f}%      {:>6.1f}%\n",
    "Turba (Ens)   ------        {:>6.1f}%      {:>6.1f}%      {:>6.1f}%      {:>6.1f}%\n",
    "====================================================================================\n",
    "\"\"\".format(\n",
    "    torch_time,\n",
    "    100 * torch_accuracy,\n",
    "    100 * torch_precision,\n",
    "    100 * torch_recall,\n",
    "    100 * torch_f1,\n",
    "    turba_time,\n",
    "    100 * turba_model_accuracy,\n",
    "    100 * turba_model_precision,\n",
    "    100 * turba_model_recall,\n",
    "    100 * turba_model_f1,\n",
    "    100 * turba_ensamble_accuracy,\n",
    "    100 * turba_ensamble_precision,\n",
    "    100 * turba_ensamble_recall,\n",
    "    100 * turba_ensamble_f1,\n",
    ")\n",
    "\n",
    "display_functions.display(HTML(f\"<pre>{output}</pre>\"))"
   ]
  }
 ],
 "metadata": {
  "kernelspec": {
   "display_name": ".venv",
   "language": "python",
   "name": "python3"
  },
  "language_info": {
   "codemirror_mode": {
    "name": "ipython",
    "version": 3
   },
   "file_extension": ".py",
   "mimetype": "text/x-python",
   "name": "python",
   "nbconvert_exporter": "python",
   "pygments_lexer": "ipython3",
   "version": "3.12.3"
  }
 },
 "nbformat": 4,
 "nbformat_minor": 2
}
