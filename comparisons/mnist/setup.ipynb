{
 "cells": [
  {
   "cell_type": "code",
   "execution_count": 1,
   "metadata": {},
   "outputs": [],
   "source": [
    "import os\n",
    "import zipfile"
   ]
  },
  {
   "cell_type": "code",
   "execution_count": 2,
   "metadata": {},
   "outputs": [],
   "source": [
    "# Create the data directory\n",
    "if not os.path.exists(\"../../data\"):\n",
    "    os.mkdir(\"../../data\")\n",
    "\n",
    "# Create input directory\n",
    "if not os.path.exists(\"../../data/input\"):\n",
    "    os.mkdir(\"../../data/input\")"
   ]
  },
  {
   "cell_type": "code",
   "execution_count": 5,
   "metadata": {},
   "outputs": [
    {
     "name": "stdout",
     "output_type": "stream",
     "text": [
      "Downloading digit-recognizer.zip to ../../data\n",
      "\n"
     ]
    },
    {
     "name": "stderr",
     "output_type": "stream",
     "text": [
      "\n",
      "  0%|          | 0.00/15.3M [00:00<?, ?B/s]\n",
      "  7%|▋         | 1.00M/15.3M [00:00<00:02, 6.67MB/s]\n",
      " 33%|███▎      | 5.00M/15.3M [00:00<00:00, 20.5MB/s]\n",
      " 52%|█████▏    | 8.00M/15.3M [00:00<00:00, 20.2MB/s]\n",
      "100%|██████████| 15.3M/15.3M [00:00<00:00, 29.4MB/s]\n"
     ]
    }
   ],
   "source": [
    "# Download the dataset from Kaggle: https://www.kaggle.com/competitions/digit-recognizer\n",
    "!kaggle competitions download -c digit-recognizer -p ../../data"
   ]
  },
  {
   "cell_type": "code",
   "execution_count": 6,
   "metadata": {},
   "outputs": [],
   "source": [
    "# Unzip the dataset\n",
    "with zipfile.ZipFile(\"../../data/digit-recognizer.zip\", \"r\") as zip_ref:\n",
    "    zip_ref.extractall(\"../../data/input\")\n",
    "    zip_ref.close()"
   ]
  },
  {
   "cell_type": "code",
   "execution_count": 8,
   "metadata": {},
   "outputs": [],
   "source": [
    "# Remove the zip file and the sample submission file\n",
    "os.remove(\"../../data/digit-recognizer.zip\")\n",
    "os.remove(\"../../data/input/sample_submission.csv\")"
   ]
  }
 ],
 "metadata": {
  "kernelspec": {
   "display_name": ".venv",
   "language": "python",
   "name": "python3"
  },
  "language_info": {
   "codemirror_mode": {
    "name": "ipython",
    "version": 3
   },
   "file_extension": ".py",
   "mimetype": "text/x-python",
   "name": "python",
   "nbconvert_exporter": "python",
   "pygments_lexer": "ipython3",
   "version": "3.12.7"
  }
 },
 "nbformat": 4,
 "nbformat_minor": 2
}
