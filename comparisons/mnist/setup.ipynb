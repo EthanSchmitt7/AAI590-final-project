{
 "cells": [
  {
   "cell_type": "code",
   "execution_count": null,
   "metadata": {},
   "outputs": [],
   "source": [
    "import os\n",
    "import zipfile"
   ]
  },
  {
   "cell_type": "code",
   "execution_count": null,
   "metadata": {},
   "outputs": [],
   "source": [
    "# Create the data directory\n",
    "if not os.path.exists(\"../../data\"):\n",
    "    os.mkdir(\"../../data\")\n",
    "\n",
    "# Create input directory\n",
    "if not os.path.exists(\"../../data/input\"):\n",
    "    os.mkdir(\"../../data/input\")"
   ]
  },
  {
   "cell_type": "code",
   "execution_count": null,
   "metadata": {},
   "outputs": [],
   "source": [
    "# Download the dataset from Kaggle: https://www.kaggle.com/competitions/digit-recognizer\n",
    "!kaggle competitions download -c digit-recognizer -p ../../data"
   ]
  },
  {
   "cell_type": "code",
   "execution_count": null,
   "metadata": {},
   "outputs": [],
   "source": [
    "# Unzip the dataset\n",
    "with zipfile.ZipFile(\"../../data/digit-recognizer.zip\", \"r\") as zip_ref:\n",
    "    zip_ref.extractall(\"../../data/input\")\n",
    "    zip_ref.close()"
   ]
  },
  {
   "cell_type": "code",
   "execution_count": null,
   "metadata": {},
   "outputs": [],
   "source": [
    "# Remove the zip file and the sample submission file\n",
    "os.remove(\"../../data/digit-recognizer.zip\")\n",
    "os.remove(\"../../data/input/sample_submission.csv\")"
   ]
  }
 ],
 "metadata": {
  "kernelspec": {
   "display_name": ".venv",
   "language": "python",
   "name": "python3"
  },
  "language_info": {
   "codemirror_mode": {
    "name": "ipython",
    "version": 3
   },
   "file_extension": ".py",
   "mimetype": "text/x-python",
   "name": "python",
   "nbconvert_exporter": "python",
   "pygments_lexer": "ipython3",
   "version": "3.12.7"
  }
 },
 "nbformat": 4,
 "nbformat_minor": 2
}
