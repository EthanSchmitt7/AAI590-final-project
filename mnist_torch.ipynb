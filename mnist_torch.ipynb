{
 "cells": [
  {
   "cell_type": "code",
   "execution_count": null,
   "metadata": {},
   "outputs": [],
   "source": [
    "import numpy as np\n",
    "import pandas as pd\n",
    "import torch"
   ]
  },
  {
   "cell_type": "code",
   "execution_count": null,
   "metadata": {},
   "outputs": [],
   "source": [
    "train_df = pd.read_csv(\"data/input/train.csv\")\n",
    "test_df = pd.read_csv(\"data/input/test.csv\")\n",
    "print(train_df.shape , test_df.shape)\n",
    "print(\"Train Cols : \" , train_df.columns)\n",
    "print(\"Test Cols : \" , test_df.columns)\n",
    "print(\" Label -  \" , [i for i in train_df.columns if i not in test_df.columns] )"
   ]
  },
  {
   "cell_type": "code",
   "execution_count": null,
   "metadata": {},
   "outputs": [],
   "source": [
    "train_df.head()"
   ]
  },
  {
   "cell_type": "code",
   "execution_count": null,
   "metadata": {},
   "outputs": [],
   "source": [
    "train_df['label'].value_counts().sort_index()"
   ]
  },
  {
   "cell_type": "code",
   "execution_count": null,
   "metadata": {},
   "outputs": [],
   "source": [
    "# Convert df to numpy array\n",
    "images = np.array(train_df.iloc[:,1:])\n",
    "\n",
    "# Reshape the array to 32000x784 to 32000x28x28\n",
    "images = images.reshape(-1,28,28)"
   ]
  },
  {
   "cell_type": "code",
   "execution_count": null,
   "metadata": {},
   "outputs": [],
   "source": [
    "images.shape"
   ]
  },
  {
   "cell_type": "code",
   "execution_count": null,
   "metadata": {},
   "outputs": [],
   "source": [
    "# Scaling the image so that the values only range between 0 and 1\n",
    "images = images/255.0\n",
    "\n",
    "# Converting to tensor\n",
    "images = torch.from_numpy(images)\n",
    "images = images.to(torch.float32)"
   ]
  },
  {
   "cell_type": "code",
   "execution_count": null,
   "metadata": {},
   "outputs": [],
   "source": [
    "# Convert labels to one-hot encoding tensor\n",
    "labels = np.array(train_df['label'])#.reshape(-1,1)\n",
    "labels.shape"
   ]
  },
  {
   "cell_type": "code",
   "execution_count": null,
   "metadata": {},
   "outputs": [],
   "source": [
    "image_label = np.zeros((images.shape[0], 10))\n",
    "image_label[np.arange(images.shape[0]), labels] = 1.0"
   ]
  },
  {
   "cell_type": "code",
   "execution_count": null,
   "metadata": {},
   "outputs": [],
   "source": [
    "image_label = torch.from_numpy(image_label)\n",
    "image_label = image_label.to(torch.float32)"
   ]
  },
  {
   "cell_type": "code",
   "execution_count": null,
   "metadata": {},
   "outputs": [],
   "source": [
    "from sklearn.model_selection import train_test_split\n",
    "\n",
    "X_train, X_val, y_train, y_val = train_test_split(images, image_label, test_size=0.1, stratify=train_df['label'])\n"
   ]
  },
  {
   "cell_type": "code",
   "execution_count": null,
   "metadata": {},
   "outputs": [],
   "source": [
    "print(X_train.shape)\n",
    "print(y_train.shape)\n",
    "print(X_val.shape)\n",
    "print(y_val.shape)"
   ]
  },
  {
   "cell_type": "code",
   "execution_count": null,
   "metadata": {},
   "outputs": [],
   "source": [
    "# Ploting some of the datapoints in the dataset\n",
    "import matplotlib.pyplot as plt\n",
    "\n",
    "# sample_img , sample_lbl = temp_train_dataset[3]\n",
    "figure = plt.figure(figsize=(8, 8))\n",
    "cols, rows = 3, 3\n",
    "figure.add_subplot(rows, cols, 1)\n",
    "plt.axis(\"off\")\n",
    "for i in range(1, cols * rows + 1):\n",
    "    sample_idx = torch.randint(len(X_train), size=(1,)).item()\n",
    "    sample_img = X_train[sample_idx]\n",
    "    sample_lbl = y_train[sample_idx]\n",
    "    figure.add_subplot(rows, cols, i)\n",
    "    plt.title(sample_lbl)\n",
    "    plt.axis(\"off\")\n",
    "    plt.imshow(sample_img.squeeze(), cmap=\"gray\")\n",
    "plt.show()"
   ]
  },
  {
   "cell_type": "code",
   "execution_count": null,
   "metadata": {},
   "outputs": [],
   "source": [
    "## Checking if the GPU is being used properly.\n",
    "device = torch.device('cuda' if torch.cuda.is_available() else 'cpu')\n",
    "print('Using device:', device)\n"
   ]
  },
  {
   "cell_type": "code",
   "execution_count": null,
   "metadata": {},
   "outputs": [],
   "source": [
    "from torch import nn\n",
    "\n",
    "# Softmax layer ignored since the loss function defined is nn.CrossEntropy()\n",
    "class MyOwnNeuralNetwork(nn.Module):\n",
    "    def __init__(self):\n",
    "        super(MyOwnNeuralNetwork, self).__init__()\n",
    "        self.flatten = nn.Flatten()\n",
    "        self.linear_relu_stack = nn.Sequential(\n",
    "            nn.Linear(784, 128),\n",
    "            nn.ReLU(),\n",
    "            nn.Linear(128, 64),\n",
    "            nn.ReLU(),\n",
    "            nn.Linear(64, 10)\n",
    "        )\n",
    "\n",
    "    def forward(self, x):\n",
    "        x = self.flatten(x)\n",
    "        logits = self.linear_relu_stack(x)\n",
    "        return  logits\n",
    "\n",
    "\n",
    "model = MyOwnNeuralNetwork().to(device)\n",
    "print(model)\n",
    "\n",
    "model = model.cuda()\n",
    "torch.backends.cudnn.benchmark=True\n",
    "torch.cuda.set_device(0)"
   ]
  },
  {
   "cell_type": "code",
   "execution_count": null,
   "metadata": {},
   "outputs": [],
   "source": [
    "## Defining optimizer and loss functions\n",
    "loss_fn = nn.CrossEntropyLoss()\n",
    "optimizer = torch.optim.SGD(model.parameters(), lr=3e-3, momentum=0.9)"
   ]
  },
  {
   "cell_type": "code",
   "execution_count": null,
   "metadata": {},
   "outputs": [],
   "source": [
    "def pytorch_train(dataloader, model, loss_fn, optimizer):\n",
    "    model.train()\n",
    "\n",
    "    size = 0\n",
    "    correct = 0\n",
    "\n",
    "    batch_loss = np.zeros(len(dataloader))\n",
    "    batch_accuracy = np.zeros(len(dataloader))\n",
    "\n",
    "    for batch, (X, y) in enumerate(dataloader):\n",
    "        # Feedforward / Loss\n",
    "        X, y = X.to(device), y.to(device)\n",
    "        pred = model(X)\n",
    "        loss = loss_fn(pred, y)\n",
    "\n",
    "        # Backprop\n",
    "        optimizer.zero_grad()\n",
    "        loss.backward()\n",
    "        optimizer.step()\n",
    "\n",
    "        # Accuracy\n",
    "        _correct = (pred.argmax(1) == y.argmax(1)).type(torch.float32).sum().item()\n",
    "\n",
    "        # Updating loss_batch and batch_accuracy\n",
    "        batch_loss[batch] = loss.item()\n",
    "        batch_accuracy[batch] = _correct/X.shape[0]\n",
    "\n",
    "        # Updating size and correct\n",
    "        size += X.shape[0]\n",
    "        correct += _correct\n",
    "\n",
    "        if batch % 100 == 0:\n",
    "            loss = loss.item()\n",
    "            current = batch * X.shape[0]\n",
    "            print(f\"loss: {loss:>7f}  [{current:>5d}]\")\n",
    "\n",
    "    accuracy = correct / size\n",
    "    print(f\"Train Accuracy: {(100*accuracy):>0.1f}%\")\n",
    "\n",
    "    return batch_loss, batch_accuracy\n"
   ]
  },
  {
   "cell_type": "code",
   "execution_count": null,
   "metadata": {},
   "outputs": [],
   "source": [
    "def pytorch_validation(dataloader, model, loss_fn):\n",
    "    model.eval()\n",
    "\n",
    "    size = 0\n",
    "    correct = 0\n",
    "\n",
    "    batch_loss = np.zeros(len(dataloader))\n",
    "    batch_accuracy = np.zeros(len(dataloader))\n",
    "    with torch.no_grad():\n",
    "        for batch, (X, y) in enumerate(dataloader):\n",
    "            # Feedforward / Loss\n",
    "            X, y = X.to(device), y.to(device)\n",
    "            pred = model(X)\n",
    "            loss = loss_fn(pred, y)\n",
    "\n",
    "            # Accuracy\n",
    "            _correct = (pred.argmax(1) == y.argmax(1)).type(torch.float32).sum().item()\n",
    "\n",
    "            # Updating loss_batch and batch_accuracy\n",
    "            batch_loss[batch] = loss.item()\n",
    "            batch_accuracy[batch] = _correct/X.shape[0]\n",
    "\n",
    "            # Updating size and correct\n",
    "            size += X.shape[0]\n",
    "            correct += _correct\n",
    "\n",
    "    accuracy = correct / size\n",
    "    print(f\"Validation Accuracy: {(100*accuracy):>0.1f}%\")\n",
    "\n",
    "    return batch_loss, batch_accuracy"
   ]
  },
  {
   "cell_type": "code",
   "execution_count": null,
   "metadata": {},
   "outputs": [],
   "source": [
    "# Batch the data\n",
    "batch_size = 64\n",
    "\n",
    "train_dataset = torch.utils.data.TensorDataset(X_train, y_train)\n",
    "val_dataset = torch.utils.data.TensorDataset(X_val, y_val)\n",
    "\n",
    "train_dataloader = torch.utils.data.DataLoader(train_dataset, batch_size=batch_size, shuffle=True)\n",
    "val_dataloader = torch.utils.data.DataLoader(train_dataset, batch_size=batch_size, shuffle=False)\n"
   ]
  },
  {
   "cell_type": "code",
   "execution_count": null,
   "metadata": {},
   "outputs": [],
   "source": [
    "train_batch_loss = []\n",
    "train_batch_accuracy = []\n",
    "valid_batch_accuracy = []\n",
    "valid_batch_loss = []\n",
    "train_epoch_no = []\n",
    "valid_epoch_no = []\n",
    "\n",
    "epochs = 10\n",
    "for t in range(epochs):\n",
    "    print(f\"Epoch {t+1}\\n-------------------------------\")\n",
    "    _train_batch_loss , _train_batch_accuracy = pytorch_train(train_dataloader, model, loss_fn, optimizer)\n",
    "    _valid_batch_loss , _valid_batch_accuracy = pytorch_validation(val_dataloader, model, loss_fn)\n",
    "\n",
    "    for i in range(len(_train_batch_loss)):\n",
    "        train_batch_loss.append(_train_batch_loss[i])\n",
    "        train_batch_accuracy.append(_train_batch_accuracy[i])\n",
    "        train_epoch_no.append( t + float((i+1)/len(_train_batch_loss)))\n",
    "\n",
    "    for i in range(len(_valid_batch_loss)):\n",
    "        valid_batch_loss.append(_valid_batch_loss[i])\n",
    "        valid_batch_accuracy.append(_valid_batch_accuracy[i])\n",
    "        valid_epoch_no.append( t + float((i+1)/len(_valid_batch_loss)))\n",
    "print(\"Done!\")"
   ]
  },
  {
   "cell_type": "code",
   "execution_count": null,
   "metadata": {},
   "outputs": [],
   "source": [
    "figure = plt.figure(figsize=(16, 16))\n",
    "\n",
    "\n",
    "figure.add_subplot(2, 2, 1)\n",
    "plt.plot(train_epoch_no , train_batch_accuracy)\n",
    "plt.title(\"Train Batch Accuracy\")\n",
    "plt.xlabel(\"Epochs\")\n",
    "plt.ylabel(\"Train Accuracy\")\n",
    "\n",
    "figure.add_subplot(2, 2, 2)\n",
    "plt.plot(train_epoch_no , train_batch_loss)\n",
    "plt.title(\"Train Batch Loss\")\n",
    "plt.xlabel(\"Epochs\")\n",
    "plt.ylabel(\"Train Loss\")\n",
    "\n",
    "figure.add_subplot(2, 2, 3)\n",
    "plt.plot(valid_epoch_no , valid_batch_accuracy)\n",
    "plt.title(\"Valid Batch Accuracy\")\n",
    "plt.xlabel(\"Epochs\")\n",
    "plt.ylabel(\"Train Accuracy\")\n",
    "\n",
    "figure.add_subplot(2, 2, 4)\n",
    "plt.plot(valid_epoch_no , valid_batch_loss)\n",
    "plt.title(\"Valid Batch Loss\")\n",
    "plt.xlabel(\"Epochs\")\n",
    "plt.ylabel(\"Train Loss\")\n",
    "\n",
    "\n",
    "plt.show()"
   ]
  },
  {
   "cell_type": "code",
   "execution_count": null,
   "metadata": {},
   "outputs": [],
   "source": []
  }
 ],
 "metadata": {
  "kernelspec": {
   "display_name": ".venv",
   "language": "python",
   "name": "python3"
  },
  "language_info": {
   "codemirror_mode": {
    "name": "ipython",
    "version": 3
   },
   "file_extension": ".py",
   "mimetype": "text/x-python",
   "name": "python",
   "nbconvert_exporter": "python",
   "pygments_lexer": "ipython3",
   "version": "3.12.7"
  }
 },
 "nbformat": 4,
 "nbformat_minor": 2
}
