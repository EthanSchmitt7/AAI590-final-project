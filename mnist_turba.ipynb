{
 "cells": [
  {
   "cell_type": "code",
   "execution_count": null,
   "metadata": {},
   "outputs": [],
   "source": [
    "import numpy as np\n",
    "import pandas as pd\n",
    "import torch"
   ]
  },
  {
   "cell_type": "code",
   "execution_count": null,
   "metadata": {},
   "outputs": [],
   "source": [
    "train_df = pd.read_csv(\"data/input/train.csv\")\n",
    "test_df = pd.read_csv(\"data/input/test.csv\")\n",
    "print(train_df.shape , test_df.shape)\n",
    "print(\"Train Cols : \" , train_df.columns)\n",
    "print(\"Test Cols : \" , test_df.columns)\n",
    "print(\" Label -  \" , [i for i in train_df.columns if i not in test_df.columns] )"
   ]
  },
  {
   "cell_type": "code",
   "execution_count": null,
   "metadata": {},
   "outputs": [],
   "source": [
    "train_df.head()"
   ]
  },
  {
   "cell_type": "code",
   "execution_count": null,
   "metadata": {},
   "outputs": [],
   "source": [
    "train_df['label'].value_counts().sort_index()"
   ]
  },
  {
   "cell_type": "code",
   "execution_count": null,
   "metadata": {},
   "outputs": [],
   "source": [
    "# Convert df to numpy array\n",
    "images = np.array(train_df.iloc[:,1:])"
   ]
  },
  {
   "cell_type": "code",
   "execution_count": null,
   "metadata": {},
   "outputs": [],
   "source": [
    "images.shape"
   ]
  },
  {
   "cell_type": "code",
   "execution_count": null,
   "metadata": {},
   "outputs": [],
   "source": [
    "# Scaling the image so that the values only range between 0 and 1\n",
    "images = images/255.0"
   ]
  },
  {
   "cell_type": "code",
   "execution_count": null,
   "metadata": {},
   "outputs": [],
   "source": [
    "# Convert labels to one-hot encoding tensor\n",
    "labels = np.array(train_df['label'])#.reshape(-1,1)\n",
    "labels.shape"
   ]
  },
  {
   "cell_type": "code",
   "execution_count": null,
   "metadata": {},
   "outputs": [],
   "source": [
    "image_label = np.zeros((images.shape[0], 10))\n",
    "image_label[np.arange(images.shape[0]), labels] = 1.0"
   ]
  },
  {
   "cell_type": "code",
   "execution_count": null,
   "metadata": {},
   "outputs": [],
   "source": [
    "from sklearn.model_selection import train_test_split\n",
    "\n",
    "X_train, X_val, y_train, y_val = train_test_split(images, image_label, test_size=0.1, stratify=train_df['label'])"
   ]
  },
  {
   "cell_type": "code",
   "execution_count": null,
   "metadata": {},
   "outputs": [],
   "source": [
    "print(X_train.shape)\n",
    "print(y_train.shape)\n",
    "print(X_val.shape)\n",
    "print(y_val.shape)"
   ]
  },
  {
   "cell_type": "code",
   "execution_count": null,
   "metadata": {},
   "outputs": [],
   "source": [
    "# Ploting some of the datapoints in the dataset\n",
    "import matplotlib.pyplot as plt\n",
    "\n",
    "# sample_img , sample_lbl = temp_train_dataset[3]\n",
    "figure = plt.figure(figsize=(8, 8))\n",
    "cols, rows = 3, 3\n",
    "figure.add_subplot(rows, cols, 1)\n",
    "plt.axis(\"off\")\n",
    "for i in range(1, cols * rows + 1):\n",
    "    sample_idx = torch.randint(len(X_train), size=(1,)).item()\n",
    "    sample_img = X_train[sample_idx].reshape(28, 28)\n",
    "    sample_lbl = y_train[sample_idx]\n",
    "    figure.add_subplot(rows, cols, i)\n",
    "    plt.title(sample_lbl)\n",
    "    plt.axis(\"off\")\n",
    "    plt.imshow(sample_img.squeeze(), cmap=\"gray\")\n",
    "plt.show()"
   ]
  },
  {
   "cell_type": "code",
   "execution_count": null,
   "metadata": {},
   "outputs": [],
   "source": [
    "from flax import linen as nn\n",
    "\n",
    "# Softmax layer ignored since the loss function defined is nn.CrossEntropy()\n",
    "class Brain(nn.Module):\n",
    "    @nn.compact\n",
    "    def __call__(self, x):  # noqa ANN001\n",
    "        x = nn.Dense(128)(x)\n",
    "        x = nn.relu(x)\n",
    "        x = nn.Dense(64)(x)\n",
    "        x = nn.relu(x)\n",
    "        x = nn.Dense(10)(x)\n",
    "\n",
    "        return x\n"
   ]
  },
  {
   "cell_type": "code",
   "execution_count": null,
   "metadata": {},
   "outputs": [],
   "source": [
    "from turbanet import softmax_cross_entropy\n",
    "\n",
    "def turbanet_train(dataloader, model):\n",
    "    size = 0\n",
    "    correct = 0\n",
    "\n",
    "    batch_loss = np.zeros(len(dataloader))\n",
    "    batch_accuracy = np.zeros(len(dataloader))\n",
    "\n",
    "    for batch, (X, y) in enumerate(dataloader):\n",
    "        # Repeat for swarm_size times\n",
    "        X = np.expand_dims(X.numpy(), 0).repeat(len(model), axis=0)\n",
    "        y = np.expand_dims(y.numpy(), 0).repeat(len(model), axis=0)\n",
    "\n",
    "        # Feedforward / Loss\n",
    "        model, loss, prediction = model.train(X, y, softmax_cross_entropy)\n",
    "\n",
    "        # Accuracy\n",
    "        _correct = (prediction.argmax(axis=2) == y.argmax(axis=2)).astype(float).sum(axis=1)\n",
    "\n",
    "        # Updating loss_batch and batch_accuracy\n",
    "        batch_loss[batch] = loss.mean().item()\n",
    "        batch_accuracy[batch] = (_correct/dataloader.batch_size).mean().item()\n",
    "\n",
    "        # Updating size and correct\n",
    "        size += dataloader.batch_size\n",
    "        correct += _correct\n",
    "\n",
    "        if batch % 100 == 0:\n",
    "            loss = loss.mean().item()\n",
    "            current = batch * dataloader.batch_size\n",
    "            print(f\"loss: {loss:>7f}  [{current:>5d}]\")\n",
    "\n",
    "    accuracy = (correct / size).mean().item()\n",
    "    print(f\"Train Accuracy: {(100*accuracy):>0.1f}%\")\n",
    "\n",
    "    return model, batch_loss, batch_accuracy\n"
   ]
  },
  {
   "cell_type": "code",
   "execution_count": null,
   "metadata": {},
   "outputs": [],
   "source": [
    "def turbanet_validation(dataloader, model):\n",
    "    size = 0\n",
    "    correct = 0\n",
    "\n",
    "    batch_loss = np.zeros(len(dataloader))\n",
    "    batch_accuracy = np.zeros(len(dataloader))\n",
    "    for batch, (X, y) in enumerate(dataloader):\n",
    "        # Repeat for swarm_size times\n",
    "        X = np.expand_dims(X.numpy(), 0).repeat(len(model), axis=0)\n",
    "        y = np.expand_dims(y.numpy(), 0).repeat(len(model), axis=0)\n",
    "\n",
    "        # Feedforward / Loss\n",
    "        loss, prediction = model.evaluate(X, y, softmax_cross_entropy)\n",
    "\n",
    "        # Accuracy\n",
    "        _correct = (prediction.argmax(axis=2) == y.argmax(axis=2)).astype(float).sum(axis=1)\n",
    "\n",
    "        # Updating loss_batch and batch_accuracy\n",
    "        batch_loss[batch] = loss.mean().item()\n",
    "        batch_accuracy[batch] = (_correct/dataloader.batch_size).mean().item()\n",
    "\n",
    "        # Updating size and correct\n",
    "        size += dataloader.batch_size\n",
    "        correct += _correct\n",
    "\n",
    "    accuracy = (correct / size).mean().item()\n",
    "    print(f\"Validation Accuracy: {(100*accuracy):>0.1f}%\")\n",
    "\n",
    "    return batch_loss, batch_accuracy"
   ]
  },
  {
   "cell_type": "code",
   "execution_count": null,
   "metadata": {},
   "outputs": [],
   "source": [
    "# Generate batches of data\n",
    "batch_size = 64\n",
    "\n",
    "X_train = torch.Tensor(X_train)\n",
    "y_train = torch.Tensor(y_train)\n",
    "\n",
    "X_val = torch.Tensor(X_val)\n",
    "y_val = torch.Tensor(y_val)\n",
    "\n",
    "train_dataloader = torch.utils.data.DataLoader(torch.utils.data.TensorDataset(X_train, y_train), batch_size=batch_size, shuffle=True)\n",
    "val_dataloader = torch.utils.data.DataLoader(torch.utils.data.TensorDataset(X_val, y_val), batch_size=batch_size, shuffle=False)\n"
   ]
  },
  {
   "cell_type": "code",
   "execution_count": null,
   "metadata": {},
   "outputs": [],
   "source": [
    "from turbanet import TurbaTrainState, softmax_cross_entropy\n",
    "\n",
    "swarm_size = 100\n",
    "model = TurbaTrainState.swarm(Brain(), swarm_size=swarm_size, input_size=784, learning_rate=3e-3)"
   ]
  },
  {
   "cell_type": "code",
   "execution_count": null,
   "metadata": {},
   "outputs": [],
   "source": [
    "train_batch_loss = []\n",
    "train_batch_accuracy = []\n",
    "valid_batch_accuracy = []\n",
    "valid_batch_loss = []\n",
    "train_epoch_no = []\n",
    "valid_epoch_no = []\n",
    "\n",
    "epochs = 10\n",
    "for t in range(epochs):\n",
    "    print(f\"Epoch {t+1}\\n-------------------------------\")\n",
    "    model, _train_batch_loss , _train_batch_accuracy = turbanet_train(train_dataloader, model)\n",
    "    _valid_batch_loss , _valid_batch_accuracy = turbanet_validation(val_dataloader, model)\n",
    "\n",
    "    for i in range(len(_train_batch_loss)):\n",
    "        train_batch_loss.append(_train_batch_loss[i])\n",
    "        train_batch_accuracy.append(_train_batch_accuracy[i])\n",
    "        train_epoch_no.append( t + float((i+1)/len(_train_batch_loss)))\n",
    "\n",
    "    for i in range(len(_valid_batch_loss)):\n",
    "        valid_batch_loss.append(_valid_batch_loss[i])\n",
    "        valid_batch_accuracy.append(_valid_batch_accuracy[i])\n",
    "        valid_epoch_no.append( t + float((i+1)/len(_valid_batch_loss)))\n",
    "print(\"Done!\")"
   ]
  },
  {
   "cell_type": "code",
   "execution_count": null,
   "metadata": {},
   "outputs": [],
   "source": [
    "figure = plt.figure(figsize=(16, 16))\n",
    "\n",
    "\n",
    "figure.add_subplot(2, 2, 1)\n",
    "plt.plot(train_epoch_no , train_batch_accuracy)\n",
    "plt.title(\"Train Batch Accuracy\")\n",
    "plt.xlabel(\"Epochs\")\n",
    "plt.ylabel(\"Train Accuracy\")\n",
    "\n",
    "figure.add_subplot(2, 2, 2)\n",
    "plt.plot(train_epoch_no , train_batch_loss)\n",
    "plt.title(\"Train Batch Loss\")\n",
    "plt.xlabel(\"Epochs\")\n",
    "plt.ylabel(\"Train Loss\")\n",
    "\n",
    "figure.add_subplot(2, 2, 3)\n",
    "plt.plot(valid_epoch_no , valid_batch_accuracy)\n",
    "plt.title(\"Valid Batch Accuracy\")\n",
    "plt.xlabel(\"Epochs\")\n",
    "plt.ylabel(\"Train Accuracy\")\n",
    "\n",
    "figure.add_subplot(2, 2, 4)\n",
    "plt.plot(valid_epoch_no , valid_batch_loss)\n",
    "plt.title(\"Valid Batch Loss\")\n",
    "plt.xlabel(\"Epochs\")\n",
    "plt.ylabel(\"Train Loss\")\n",
    "\n",
    "\n",
    "plt.show()"
   ]
  },
  {
   "cell_type": "code",
   "execution_count": null,
   "metadata": {},
   "outputs": [],
   "source": [
    "# Plot training and validation loss together\n",
    "figure = plt.figure(figsize=(16, 8))\n",
    "\n",
    "figure.add_subplot(1, 2, 1)\n",
    "plt.plot(train_epoch_no , train_batch_loss)\n",
    "plt.plot(valid_epoch_no , valid_batch_loss)\n",
    "plt.title(\"Loss\")\n",
    "plt.xlabel(\"Epochs\")\n",
    "plt.ylabel(\"Loss\")\n",
    "plt.legend([\"Train\", \"Validation\"])\n",
    "\n",
    "figure.add_subplot(1, 2, 2)\n",
    "plt.plot(train_epoch_no , train_batch_accuracy)\n",
    "plt.plot(valid_epoch_no , valid_batch_accuracy)\n",
    "plt.title(\"Accuracy\")\n",
    "plt.xlabel(\"Epochs\")\n",
    "plt.ylabel(\"Accuracy\")\n",
    "plt.legend([\"Train\", \"Validation\"])\n",
    "\n",
    "plt.show()\n"
   ]
  },
  {
   "cell_type": "code",
   "execution_count": null,
   "metadata": {},
   "outputs": [],
   "source": []
  }
 ],
 "metadata": {
  "kernelspec": {
   "display_name": ".venv",
   "language": "python",
   "name": "python3"
  },
  "language_info": {
   "codemirror_mode": {
    "name": "ipython",
    "version": 3
   },
   "file_extension": ".py",
   "mimetype": "text/x-python",
   "name": "python",
   "nbconvert_exporter": "python",
   "pygments_lexer": "ipython3",
   "version": "3.12.7"
  }
 },
 "nbformat": 4,
 "nbformat_minor": 2
}
